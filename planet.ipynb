{
  "nbformat": 4,
  "nbformat_minor": 0,
  "metadata": {
    "colab": {
      "name": "planet.ipynb",
      "version": "0.3.2",
      "provenance": [],
      "include_colab_link": true
    },
    "kernelspec": {
      "name": "python3",
      "display_name": "Python 3"
    }
  },
  "cells": [
    {
      "cell_type": "markdown",
      "metadata": {
        "id": "view-in-github",
        "colab_type": "text"
      },
      "source": [
        "<a href=\"https://colab.research.google.com/github/ajijohn/sathack/blob/master/planet.ipynb\" target=\"_parent\"><img src=\"https://colab.research.google.com/assets/colab-badge.svg\" alt=\"Open In Colab\"/></a>"
      ]
    },
    {
      "cell_type": "code",
      "metadata": {
        "id": "ZFzwb1tZUK5u",
        "colab_type": "code",
        "colab": {}
      },
      "source": [
        "import os\n",
        "import requests\n",
        "from requests.auth import HTTPBasicAuth\n",
        "\n",
        "os.environ['PL_API_KEY'] = 'abc'\n",
        "\n",
        "geo_json_geometry = {\n",
        "  \"type\": \"Polygon\",\n",
        "  \"coordinates\": [\n",
        "    [\n",
        "      [\n",
        "        -122.52227783203125,\n",
        "        40.660847697284815\n",
        "      ],\n",
        "      [\n",
        "        -122.52227783203125,\n",
        "        40.987154933797335\n",
        "      ],\n",
        "      [\n",
        "        -122.01690673828124,\n",
        "        40.987154933797335\n",
        "      ],\n",
        "      [\n",
        "        -122.01690673828124,\n",
        "        40.660847697284815\n",
        "      ],\n",
        "      [\n",
        "        -122.52227783203125,\n",
        "        40.660847697284815\n",
        "      ]\n",
        "    ]\n",
        "  ]\n",
        "}\n",
        "\n",
        "# filter for items the overlap with our chosen geometry\n",
        "geometry_filter = {\n",
        "  \"type\": \"GeometryFilter\",\n",
        "  \"field_name\": \"geometry\",\n",
        "  \"config\": geo_json_geometry\n",
        "}\n",
        "\n",
        "# filter images acquired in a certain date range\n",
        "date_range_filter = {\n",
        "  \"type\": \"DateRangeFilter\",\n",
        "  \"field_name\": \"acquired\",\n",
        "  \"config\": {\n",
        "    \"gte\": \"2016-07-01T00:00:00.000Z\",\n",
        "    \"lte\": \"2016-08-01T00:00:00.000Z\"\n",
        "  }\n",
        "}\n",
        "\n",
        "# filter any images which are more than 50% clouds\n",
        "cloud_cover_filter = {\n",
        "  \"type\": \"RangeFilter\",\n",
        "  \"field_name\": \"cloud_cover\",\n",
        "  \"config\": {\n",
        "    \"lte\": 0.5\n",
        "  }\n",
        "}\n",
        "\n",
        "# create a filter that combines our geo and date filters\n",
        "# could also use an \"OrFilter\"\n",
        "redding_reservoir = {\n",
        "  \"type\": \"AndFilter\",\n",
        "  \"config\": [geometry_filter, date_range_filter, cloud_cover_filter]\n",
        "}"
      ],
      "execution_count": 0,
      "outputs": []
    },
    {
      "cell_type": "code",
      "metadata": {
        "id": "ZdgwJilWWp5t",
        "colab_type": "code",
        "colab": {
          "base_uri": "https://localhost:8080/",
          "height": 114
        },
        "outputId": "bfda5d00-0359-406f-b136-e7cb44435039"
      },
      "source": [
        "\n",
        "\n",
        "# Stats API request object\n",
        "stats_endpoint_request = {\n",
        "  \"interval\": \"day\",\n",
        "  \"item_types\": [\"REOrthoTile\"],\n",
        "  \"filter\": redding_reservoir\n",
        "}\n",
        "\n",
        "# fire off the POST request\n",
        "result = \\\n",
        "  requests.post(\n",
        "    'https://api.planet.com/data/v1/stats',\n",
        "    auth=HTTPBasicAuth(os.environ['PL_API_KEY'], ''),\n",
        "    json=stats_endpoint_request)\n",
        "\n",
        "print(result.text)"
      ],
      "execution_count": 9,
      "outputs": [
        {
          "output_type": "stream",
          "text": [
            "{\"utc_offset\": \"+0h\", \"interval\": \"day\", \"buckets\": [{\"count\": 6, \"start_time\": \"2016-07-07T00:00:00.000000Z\"}, {\"count\": 0, \"start_time\": \"2016-07-08T00:00:00.000000Z\"}, {\"count\": 0, \"start_time\": \"2016-07-09T00:00:00.000000Z\"}, {\"count\": 0, \"start_time\": \"2016-07-10T00:00:00.000000Z\"}, {\"count\": 0, \"start_time\": \"2016-07-11T00:00:00.000000Z\"}, {\"count\": 0, \"start_time\": \"2016-07-12T00:00:00.000000Z\"}, {\"count\": 9, \"start_time\": \"2016-07-13T00:00:00.000000Z\"}, {\"count\": 0, \"start_time\": \"2016-07-14T00:00:00.000000Z\"}, {\"count\": 0, \"start_time\": \"2016-07-15T00:00:00.000000Z\"}, {\"count\": 0, \"start_time\": \"2016-07-16T00:00:00.000000Z\"}, {\"count\": 3, \"start_time\": \"2016-07-17T00:00:00.000000Z\"}, {\"count\": 0, \"start_time\": \"2016-07-18T00:00:00.000000Z\"}, {\"count\": 6, \"start_time\": \"2016-07-19T00:00:00.000000Z\"}, {\"count\": 0, \"start_time\": \"2016-07-20T00:00:00.000000Z\"}, {\"count\": 0, \"start_time\": \"2016-07-21T00:00:00.000000Z\"}, {\"count\": 6, \"start_time\": \"2016-07-22T00:00:00.000000Z\"}]}\n"
          ],
          "name": "stdout"
        }
      ]
    }
  ]
}