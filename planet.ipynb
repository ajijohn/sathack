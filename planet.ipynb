{
  "nbformat": 4,
  "nbformat_minor": 0,
  "metadata": {
    "colab": {
      "name": "planet.ipynb",
      "version": "0.3.2",
      "provenance": [],
      "include_colab_link": true
    },
    "kernelspec": {
      "name": "python3",
      "display_name": "Python 3"
    }
  },
  "cells": [
    {
      "cell_type": "markdown",
      "metadata": {
        "id": "view-in-github",
        "colab_type": "text"
      },
      "source": [
        "<a href=\"https://colab.research.google.com/github/ajijohn/sathack/blob/master/planet.ipynb\" target=\"_parent\"><img src=\"https://colab.research.google.com/assets/colab-badge.svg\" alt=\"Open In Colab\"/></a>"
      ]
    },
    {
      "cell_type": "code",
      "metadata": {
        "colab_type": "code",
        "id": "BAiv949mwEel",
        "colab": {}
      },
      "source": [
        ""
      ],
      "execution_count": 0,
      "outputs": []
    },
    {
      "cell_type": "code",
      "metadata": {
        "id": "ZFzwb1tZUK5u",
        "colab_type": "code",
        "colab": {}
      },
      "source": [
        "import os\n",
        "import requests\n",
        "from requests.auth import HTTPBasicAuth\n",
        "import json\n",
        "\n",
        "os.environ['PL_API_KEY'] = '332d82b813b64703a6222bb42e32f27c'\n",
        "\n",
        "geo_json_geometry = {\n",
        "  \"type\": \"Polygon\",\n",
        "  \"coordinates\": [\n",
        "    [\n",
        "      [\n",
        "        -122.52227783203125,\n",
        "        40.660847697284815\n",
        "      ],\n",
        "      [\n",
        "        -122.52227783203125,\n",
        "        40.987154933797335\n",
        "      ],\n",
        "      [\n",
        "        -122.01690673828124,\n",
        "        40.987154933797335\n",
        "      ],\n",
        "      [\n",
        "        -122.01690673828124,\n",
        "        40.660847697284815\n",
        "      ],\n",
        "      [\n",
        "        -122.52227783203125,\n",
        "        40.660847697284815\n",
        "      ]\n",
        "    ]\n",
        "  ]\n",
        "}\n",
        "\n",
        "# filter for items the overlap with our chosen geometry\n",
        "geometry_filter = {\n",
        "  \"type\": \"GeometryFilter\",\n",
        "  \"field_name\": \"geometry\",\n",
        "  \"config\": geo_json_geometry\n",
        "}\n",
        "\n",
        "# filter images acquired in a certain date range\n",
        "date_range_filter = {\n",
        "  \"type\": \"DateRangeFilter\",\n",
        "  \"field_name\": \"acquired\",\n",
        "  \"config\": {\n",
        "    \"gte\": \"2016-07-01T00:00:00.000Z\",\n",
        "    \"lte\": \"2016-08-01T00:00:00.000Z\"\n",
        "  }\n",
        "}\n",
        "\n",
        "# filter any images which are more than 50% clouds\n",
        "cloud_cover_filter = {\n",
        "  \"type\": \"RangeFilter\",\n",
        "  \"field_name\": \"cloud_cover\",\n",
        "  \"config\": {\n",
        "    \"lte\": 0.5\n",
        "  }\n",
        "}\n",
        "\n",
        "# create a filter that combines our geo and date filters\n",
        "# could also use an \"OrFilter\"\n",
        "redding_reservoir = {\n",
        "  \"type\": \"AndFilter\",\n",
        "  \"config\": [geometry_filter, date_range_filter, cloud_cover_filter]\n",
        "}"
      ],
      "execution_count": 0,
      "outputs": []
    },
    {
      "cell_type": "code",
      "metadata": {
        "id": "ZdgwJilWWp5t",
        "colab_type": "code",
        "outputId": "b88c446f-078f-4c0f-8297-740a5c57a354",
        "colab": {
          "base_uri": "https://localhost:8080/",
          "height": 54
        }
      },
      "source": [
        "\n",
        "\n",
        "# Stats API request object\n",
        "stats_endpoint_request = {\n",
        "  \"interval\": \"day\",\n",
        "  \"item_types\": [\"REOrthoTile\"],\n",
        "  \"filter\": redding_reservoir\n",
        "}\n",
        "\n",
        "# fire off the POST request\n",
        "result = \\\n",
        "  requests.post(\n",
        "    'https://api.planet.com/data/v1/stats',\n",
        "    auth=HTTPBasicAuth(os.environ['PL_API_KEY'], ''),\n",
        "    json=stats_endpoint_request)\n",
        "\n",
        "print(result.text)"
      ],
      "execution_count": 10,
      "outputs": [
        {
          "output_type": "stream",
          "text": [
            "{\"utc_offset\": \"+0h\", \"interval\": \"day\", \"buckets\": [{\"count\": 6, \"start_time\": \"2016-07-07T00:00:00.000000Z\"}, {\"count\": 0, \"start_time\": \"2016-07-08T00:00:00.000000Z\"}, {\"count\": 0, \"start_time\": \"2016-07-09T00:00:00.000000Z\"}, {\"count\": 0, \"start_time\": \"2016-07-10T00:00:00.000000Z\"}, {\"count\": 0, \"start_time\": \"2016-07-11T00:00:00.000000Z\"}, {\"count\": 0, \"start_time\": \"2016-07-12T00:00:00.000000Z\"}, {\"count\": 9, \"start_time\": \"2016-07-13T00:00:00.000000Z\"}, {\"count\": 0, \"start_time\": \"2016-07-14T00:00:00.000000Z\"}, {\"count\": 0, \"start_time\": \"2016-07-15T00:00:00.000000Z\"}, {\"count\": 0, \"start_time\": \"2016-07-16T00:00:00.000000Z\"}, {\"count\": 3, \"start_time\": \"2016-07-17T00:00:00.000000Z\"}, {\"count\": 0, \"start_time\": \"2016-07-18T00:00:00.000000Z\"}, {\"count\": 6, \"start_time\": \"2016-07-19T00:00:00.000000Z\"}, {\"count\": 0, \"start_time\": \"2016-07-20T00:00:00.000000Z\"}, {\"count\": 0, \"start_time\": \"2016-07-21T00:00:00.000000Z\"}, {\"count\": 6, \"start_time\": \"2016-07-22T00:00:00.000000Z\"}]}\n"
          ],
          "name": "stdout"
        }
      ]
    },
    {
      "cell_type": "code",
      "metadata": {
        "id": "BPFP0Na4kQf0",
        "colab_type": "code",
        "colab": {
          "base_uri": "https://localhost:8080/",
          "height": 54
        },
        "outputId": "e22c0d99-b150-49c8-fd93-4598df46b780"
      },
      "source": [
        "# Search API request object\n",
        "search_endpoint_request = {\n",
        "  \"item_types\": [\"REOrthoTile\"],\n",
        "  \"filter\": redding_reservoir\n",
        "}\n",
        "\n",
        "result = \\\n",
        "  requests.post(\n",
        "    'https://api.planet.com/data/v1/quick-search',\n",
        "    auth=HTTPBasicAuth(os.environ['PL_API_KEY'], ''),\n",
        "    json=search_endpoint_request)\n",
        "\n",
        "print(result.text)"
      ],
      "execution_count": 11,
      "outputs": [
        {
          "output_type": "stream",
          "text": [
            "{\"_links\": {\"_first\": \"https://api.planet.com/data/v1/searches/1575c7fd247f4251b11812c5f0e71a3a/results?_page=eyJxdWVyeV9wYXJhbXMiOiB7fSwgInNvcnRfcHJldiI6IGZhbHNlLCAicGFnZV9zaXplIjogMjUwLCAic29ydF9ieSI6ICJwdWJsaXNoZWQiLCAic29ydF9zdGFydCI6IG51bGwsICJzb3J0X2xhc3RfaWQiOiBudWxsLCAic29ydF9kZXNjIjogdHJ1ZX0%3D\", \"_next\": \"https://api.planet.com/data/v1/searches/1575c7fd247f4251b11812c5f0e71a3a/results?_page=eyJxdWVyeV9wYXJhbXMiOiB7fSwgInNvcnRfcHJldiI6IGZhbHNlLCAicGFnZV9zaXplIjogMjUwLCAic29ydF9ieSI6ICJwdWJsaXNoZWQiLCAic29ydF9zdGFydCI6ICIyMDE2LTA4LTE4VDAxOjUzOjQwLjAwMDAwMFoiLCAic29ydF9sYXN0X2lkIjogIjIwMTYwNzE5XzE5Mzg0MV8xMDU3ODE3X1JhcGlkRXllLTQiLCAic29ydF9kZXNjIjogdHJ1ZX0%3D\", \"_self\": \"https://api.planet.com/data/v1/searches/1575c7fd247f4251b11812c5f0e71a3a/results?_page=eyJxdWVyeV9wYXJhbXMiOiB7fSwgInNvcnRfcHJldiI6IGZhbHNlLCAicGFnZV9zaXplIjogMjUwLCAic29ydF9ieSI6ICJwdWJsaXNoZWQiLCAic29ydF9zdGFydCI6IG51bGwsICJzb3J0X2xhc3RfaWQiOiBudWxsLCAic29ydF9kZXNjIjogdHJ1ZX0%3D\"}, \"features\": [{\"_links\": {\"_self\": \"https://api.planet.com/data/v1/item-types/REOrthoTile/items/20160707_195147_1057916_RapidEye-1\", \"assets\": \"https://api.planet.com/data/v1/item-types/REOrthoTile/items/20160707_195147_1057916_RapidEye-1/assets/\", \"thumbnail\": \"https://tiles.planet.com/data/v1/item-types/REOrthoTile/items/20160707_195147_1057916_RapidEye-1/thumb\"}, \"_permissions\": [\"assets.analytic:download\", \"assets.visual:download\", \"assets.analytic_xml:download\", \"assets.visual_xml:download\", \"assets.udm:download\"], \"geometry\": {\"coordinates\": [[[-122.7206629, 40.9793296], [-122.4235073, 40.9782264], [-122.4254565, 40.7530266], [-122.7216084, 40.7541212], [-122.7206629, 40.9793296]]], \"type\": \"Polygon\"}, \"id\": \"20160707_195147_1057916_RapidEye-1\", \"properties\": {\"acquired\": \"2016-07-07T19:51:47Z\", \"anomalous_pixels\": 0.05, \"black_fill\": 0, \"catalog_id\": \"26601448\", \"cloud_cover\": 0.05, \"columns\": 5000, \"epsg_code\": 32610, \"grid_cell\": \"1057916\", \"ground_control\": true, \"gsd\": 6.5, \"item_type\": \"REOrthoTile\", \"origin_x\": 523500, \"origin_y\": 4536500, \"pixel_resolution\": 5, \"provider\": \"rapideye\", \"published\": \"2016-08-18T21:26:07.000Z\", \"rows\": 5000, \"satellite_id\": \"RapidEye-1\", \"strip_id\": \"26601355\", \"sun_azimuth\": 162.95195, \"sun_elevation\": 71.12186, \"updated\": \"2018-01-14T08:43:31.000Z\", \"usable_data\": 0.95, \"view_angle\": -13.04192}, \"type\": \"Feature\"}, {\"_links\": {\"_self\": \"https://api.planet.com/data/v1/item-types/REOrthoTile/items/20160707_195146_1057917_RapidEye-1\", \"assets\": \"https://api.planet.com/data/v1/item-types/REOrthoTile/items/20160707_195146_1057917_RapidEye-1/assets/\", \"thumbnail\": \"https://tiles.planet.com/data/v1/item-types/REOrthoTile/items/20160707_195146_1057917_RapidEye-1/thumb\"}, \"_permissions\": [\"assets.analytic:download\", \"assets.visual:download\", \"assets.analytic_xml:download\", \"assets.visual_xml:download\", \"assets.udm:download\"], \"geometry\": {\"coordinates\": [[[-122.25010426357179, 40.75193211522011], [-122.4373022, 40.7530849], [-122.4353931, 40.9782852], [-122.17365078657686, 40.97666630451721], [-122.229007242004, 40.8142134379401], [-122.25010426357179, 40.75193211522011]]], \"type\": \"Polygon\"}, \"id\": \"20160707_195146_1057917_RapidEye-1\", \"properties\": {\"acquired\": \"2016-07-07T19:51:46Z\", \"anomalous_pixels\": 0.28, \"black_fill\": 0.28, \"catalog_id\": \"26601450\", \"cloud_cover\": 0, \"columns\": 5000, \"epsg_code\": 32610, \"grid_cell\": \"1057917\", \"ground_control\": true, \"gsd\": 6.5, \"item_type\": \"REOrthoTile\", \"origin_x\": 547500, \"origin_y\": 4536500, \"pixel_resolution\": 5, \"provider\": \"rapideye\", \"published\": \"2016-08-18T21:26:07.000Z\", \"rows\": 5000, \"satellite_id\": \"RapidEye-1\", \"strip_id\": \"26601355\", \"sun_azimuth\": 163.73489, \"sun_elevation\": 71.18452, \"updated\": \"2018-01-14T08:43:31.000Z\", \"usable_data\": 0.72, \"view_angle\": -13.04192}, \"type\": \"Feature\"}, {\"_links\": {\"_self\": \"https://api.planet.com/data/v1/item-types/REOrthoTile/items/20160707_195150_1057817_RapidEye-1\", \"assets\": \"https://api.planet.com/data/v1/item-types/REOrthoTile/items/20160707_195150_1057817_RapidEye-1/assets/\", \"thumbnail\": \"https://tiles.planet.com/data/v1/item-types/REOrthoTile/items/20160707_195150_1057817_RapidEye-1/thumb\"}, \"_permissions\": [\"assets.analytic:download\", \"assets.visual:download\", \"assets.analytic_xml:download\", \"assets.visual_xml:download\", \"assets.udm:download\"], \"geometry\": {\"coordinates\": [[[-122.32307074651823, 40.5361729436894], [-122.4391157, 40.5368846], [-122.4372263, 40.7620931], [-122.24705911884755, 40.76092180320472], [-122.302792194729, 40.5963900623617], [-122.32307074651823, 40.5361729436894]]], \"type\": \"Polygon\"}, \"id\": \"20160707_195150_1057817_RapidEye-1\", \"properties\": {\"acquired\": \"2016-07-07T19:51:50Z\", \"anomalous_pixels\": 0.51, \"black_fill\": 0.51, \"catalog_id\": \"26601398\", \"cloud_cover\": 0, \"columns\": 5000, \"epsg_code\": 32610, \"grid_cell\": \"1057817\", \"ground_control\": true, \"gsd\": 6.5, \"item_type\": \"REOrthoTile\", \"origin_x\": 547500, \"origin_y\": 4512500, \"pixel_resolution\": 5, \"provider\": \"rapideye\", \"published\": \"2016-08-18T21:25:58.000Z\", \"rows\": 5000, \"satellite_id\": \"RapidEye-1\", \"strip_id\": \"26601355\", \"sun_azimuth\": 163.5888, \"sun_elevation\": 71.3943, \"updated\": \"2018-01-14T08:43:46.000Z\", \"usable_data\": 0.49, \"view_angle\": -13.04192}, \"type\": \"Feature\"}, {\"_links\": {\"_self\": \"https://api.planet.com/data/v1/item-types/REOrthoTile/items/20160707_195143_1058017_RapidEye-1\", \"assets\": \"https://api.planet.com/data/v1/item-types/REOrthoTile/items/20160707_195143_1058017_RapidEye-1/assets/\", \"thumbnail\": \"https://tiles.planet.com/data/v1/item-types/REOrthoTile/items/20160707_195143_1058017_RapidEye-1/thumb\"}, \"_permissions\": [\"assets.analytic:download\", \"assets.visual:download\", \"assets.analytic_xml:download\", \"assets.visual_xml:download\", \"assets.udm:download\"], \"geometry\": {\"coordinates\": [[[-122.17671386629455, 40.967677179818885], [-122.4354699, 40.9692773], [-122.4335392, 41.1944692], [-122.1354292, 41.1926169], [-122.13684567955058, 41.08436332531117], [-122.154798833233, 41.0319905451619], [-122.17671386629455, 40.967677179818885]]], \"type\": \"Polygon\"}, \"id\": \"20160707_195143_1058017_RapidEye-1\", \"properties\": {\"acquired\": \"2016-07-07T19:51:43Z\", \"anomalous_pixels\": 0.09, \"black_fill\": 0.06, \"catalog_id\": \"26601406\", \"cloud_cover\": 0.03, \"columns\": 5000, \"epsg_code\": 32610, \"grid_cell\": \"1058017\", \"ground_control\": true, \"gsd\": 6.5, \"item_type\": \"REOrthoTile\", \"origin_x\": 547500, \"origin_y\": 4560500, \"pixel_resolution\": 5, \"provider\": \"rapideye\", \"published\": \"2016-08-18T21:25:58.000Z\", \"rows\": 5000, \"satellite_id\": \"RapidEye-1\", \"strip_id\": \"26601355\", \"sun_azimuth\": 163.87773, \"sun_elevation\": 70.97462, \"updated\": \"2018-01-14T09:02:10.000Z\", \"usable_data\": 0.91, \"view_angle\": -13.04192}, \"type\": \"Feature\"}, {\"_links\": {\"_self\": \"https://api.planet.com/data/v1/item-types/REOrthoTile/items/20160707_195143_1058016_RapidEye-1\", \"assets\": \"https://api.planet.com/data/v1/item-types/REOrthoTile/items/20160707_195143_1058016_RapidEye-1/assets/\", \"thumbnail\": \"https://tiles.planet.com/data/v1/item-types/REOrthoTile/items/20160707_195143_1058016_RapidEye-1/thumb\"}, \"_permissions\": [\"assets.analytic:download\", \"assets.visual:download\", \"assets.analytic_xml:download\", \"assets.visual_xml:download\", \"assets.udm:download\"], \"geometry\": {\"coordinates\": [[[-122.7197462, 41.1955216], [-122.4216143, 41.19441], [-122.4235857, 40.9692185], [-122.7207009, 40.9703215], [-122.7197462, 41.1955216]]], \"type\": \"Polygon\"}, \"id\": \"20160707_195143_1058016_RapidEye-1\", \"properties\": {\"acquired\": \"2016-07-07T19:51:43Z\", \"anomalous_pixels\": 0.12, \"black_fill\": 0, \"catalog_id\": \"26601404\", \"cloud_cover\": 0.12, \"columns\": 5000, \"epsg_code\": 32610, \"grid_cell\": \"1058016\", \"ground_control\": true, \"gsd\": 6.5, \"item_type\": \"REOrthoTile\", \"origin_x\": 523500, \"origin_y\": 4560500, \"pixel_resolution\": 5, \"provider\": \"rapideye\", \"published\": \"2016-08-18T21:25:58.000Z\", \"rows\": 5000, \"satellite_id\": \"RapidEye-1\", \"strip_id\": \"26601355\", \"sun_azimuth\": 163.10001, \"sun_elevation\": 70.91247, \"updated\": \"2018-01-14T09:02:09.000Z\", \"usable_data\": 0.88, \"view_angle\": -13.04192}, \"type\": \"Feature\"}, {\"_links\": {\"_self\": \"https://api.planet.com/data/v1/item-types/REOrthoTile/items/20160707_195150_1057816_RapidEye-1\", \"assets\": \"https://api.planet.com/data/v1/item-types/REOrthoTile/items/20160707_195150_1057816_RapidEye-1/assets/\", \"thumbnail\": \"https://tiles.planet.com/data/v1/item-types/REOrthoTile/items/20160707_195150_1057816_RapidEye-1/thumb\"}, \"_permissions\": [\"assets.analytic:download\", \"assets.visual:download\", \"assets.analytic_xml:download\", \"assets.visual_xml:download\", \"assets.udm:download\"], \"geometry\": {\"coordinates\": [[[-122.7215708, 40.7631297], [-122.425379, 40.7620347], [-122.4273082, 40.5368266], [-122.7225051, 40.5379119], [-122.7215708, 40.7631297]]], \"type\": \"Polygon\"}, \"id\": \"20160707_195150_1057816_RapidEye-1\", \"properties\": {\"acquired\": \"2016-07-07T19:51:50Z\", \"anomalous_pixels\": 0, \"black_fill\": 0, \"catalog_id\": \"26601396\", \"cloud_cover\": 0, \"columns\": 5000, \"epsg_code\": 32610, \"grid_cell\": \"1057816\", \"ground_control\": true, \"gsd\": 6.5, \"item_type\": \"REOrthoTile\", \"origin_x\": 523500, \"origin_y\": 4512500, \"pixel_resolution\": 5, \"provider\": \"rapideye\", \"published\": \"2016-08-18T21:25:57.000Z\", \"rows\": 5000, \"satellite_id\": \"RapidEye-1\", \"strip_id\": \"26601355\", \"sun_azimuth\": 162.80051, \"sun_elevation\": 71.33113, \"updated\": \"2018-01-14T09:03:55.000Z\", \"usable_data\": 1, \"view_angle\": -13.04192}, \"type\": \"Feature\"}, {\"_links\": {\"_self\": \"https://api.planet.com/data/v1/item-types/REOrthoTile/items/20160722_194931_1057916_RapidEye-2\", \"assets\": \"https://api.planet.com/data/v1/item-types/REOrthoTile/items/20160722_194931_1057916_RapidEye-2/assets/\", \"thumbnail\": \"https://tiles.planet.com/data/v1/item-types/REOrthoTile/items/20160722_194931_1057916_RapidEye-2/thumb\"}, \"_permissions\": [\"assets.analytic:download\", \"assets.visual:download\", \"assets.analytic_xml:download\", \"assets.visual_xml:download\", \"assets.udm:download\"], \"geometry\": {\"coordinates\": [[[-122.7206629, 40.9793296], [-122.4235073, 40.9782264], [-122.4254565, 40.7530266], [-122.7216084, 40.7541212], [-122.7206629, 40.9793296]]], \"type\": \"Polygon\"}, \"id\": \"20160722_194931_1057916_RapidEye-2\", \"properties\": {\"acquired\": \"2016-07-22T19:49:31Z\", \"anomalous_pixels\": 0, \"black_fill\": 0, \"catalog_id\": \"26866467\", \"cloud_cover\": 0, \"columns\": 5000, \"epsg_code\": 32610, \"grid_cell\": \"1057916\", \"ground_control\": true, \"gsd\": 6.5, \"item_type\": \"REOrthoTile\", \"origin_x\": 523500, \"origin_y\": 4536500, \"pixel_resolution\": 5, \"provider\": \"rapideye\", \"published\": \"2016-08-18T02:02:16.000Z\", \"rows\": 5000, \"satellite_id\": \"RapidEye-2\", \"strip_id\": \"26866383\", \"sun_azimuth\": 162.22647, \"sun_elevation\": 68.57864, \"updated\": \"2018-01-14T04:45:35.000Z\", \"usable_data\": 1, \"view_angle\": -6.35775}, \"type\": \"Feature\"}, {\"_links\": {\"_self\": \"https://api.planet.com/data/v1/item-types/REOrthoTile/items/20160722_194930_1057917_RapidEye-2\", \"assets\": \"https://api.planet.com/data/v1/item-types/REOrthoTile/items/20160722_194930_1057917_RapidEye-2/assets/\", \"thumbnail\": \"https://tiles.planet.com/data/v1/item-types/REOrthoTile/items/20160722_194930_1057917_RapidEye-2/thumb\"}, \"_permissions\": [\"assets.analytic:download\", \"assets.visual:download\", \"assets.analytic_xml:download\", \"assets.visual_xml:download\", \"assets.udm:download\"], \"geometry\": {\"coordinates\": [[[-122.32493967653173, 40.75239295964341], [-122.4373022, 40.7530849], [-122.4353931, 40.9782852], [-122.25056251712238, 40.977142009234285], [-122.28040635687, 40.8872510561255], [-122.32493967653173, 40.75239295964341]]], \"type\": \"Polygon\"}, \"id\": \"20160722_194930_1057917_RapidEye-2\", \"properties\": {\"acquired\": \"2016-07-22T19:49:30Z\", \"anomalous_pixels\": 0.52, \"black_fill\": 0.52, \"catalog_id\": \"26866469\", \"cloud_cover\": 0, \"columns\": 5000, \"epsg_code\": 32610, \"grid_cell\": \"1057917\", \"ground_control\": true, \"gsd\": 6.5, \"item_type\": \"REOrthoTile\", \"origin_x\": 547500, \"origin_y\": 4536500, \"pixel_resolution\": 5, \"provider\": \"rapideye\", \"published\": \"2016-08-18T02:02:16.000Z\", \"rows\": 5000, \"satellite_id\": \"RapidEye-2\", \"strip_id\": \"26866383\", \"sun_azimuth\": 162.93059, \"sun_elevation\": 68.64405, \"updated\": \"2018-01-14T04:45:35.000Z\", \"usable_data\": 0.48, \"view_angle\": -6.35775}, \"type\": \"Feature\"}, {\"_links\": {\"_self\": \"https://api.planet.com/data/v1/item-types/REOrthoTile/items/20160722_194928_1058016_RapidEye-2\", \"assets\": \"https://api.planet.com/data/v1/item-types/REOrthoTile/items/20160722_194928_1058016_RapidEye-2/assets/\", \"thumbnail\": \"https://tiles.planet.com/data/v1/item-types/REOrthoTile/items/20160722_194928_1058016_RapidEye-2/thumb\"}, \"_permissions\": [\"assets.analytic:download\", \"assets.visual:download\", \"assets.analytic_xml:download\", \"assets.visual_xml:download\", \"assets.udm:download\"], \"geometry\": {\"coordinates\": [[[-122.7197462, 41.1955216], [-122.4216143, 41.19441], [-122.4235857, 40.9692185], [-122.7207009, 40.9703215], [-122.7197462, 41.1955216]]], \"type\": \"Polygon\"}, \"id\": \"20160722_194928_1058016_RapidEye-2\", \"properties\": {\"acquired\": \"2016-07-22T19:49:28Z\", \"anomalous_pixels\": 0.01, \"black_fill\": 0, \"catalog_id\": \"26866426\", \"cloud_cover\": 0.01, \"columns\": 5000, \"epsg_code\": 32610, \"grid_cell\": \"1058016\", \"ground_control\": true, \"gsd\": 6.5, \"item_type\": \"REOrthoTile\", \"origin_x\": 523500, \"origin_y\": 4560500, \"pixel_resolution\": 5, \"provider\": \"rapideye\", \"published\": \"2016-08-18T02:02:10.000Z\", \"rows\": 5000, \"satellite_id\": \"RapidEye-2\", \"strip_id\": \"26866383\", \"sun_azimuth\": 162.36116, \"sun_elevation\": 68.36994, \"updated\": \"2018-01-14T04:50:07.000Z\", \"usable_data\": 0.99, \"view_angle\": -6.35775}, \"type\": \"Feature\"}, {\"_links\": {\"_self\": \"https://api.planet.com/data/v1/item-types/REOrthoTile/items/20160722_194927_1058017_RapidEye-2\", \"assets\": \"https://api.planet.com/data/v1/item-types/REOrthoTile/items/20160722_194927_1058017_RapidEye-2/assets/\", \"thumbnail\": \"https://tiles.planet.com/data/v1/item-types/REOrthoTile/items/20160722_194927_1058017_RapidEye-2/thumb\"}, \"_permissions\": [\"assets.analytic:download\", \"assets.visual:download\", \"assets.analytic_xml:download\", \"assets.visual_xml:download\", \"assets.udm:download\"], \"geometry\": {\"coordinates\": [[[-122.25354710210036, 40.96815230849292], [-122.4354699, 40.9692773], [-122.4335392, 41.1944692], [-122.1787750426224, 41.1928862284502], [-122.208333333333, 41.1043381613358], [-122.25354710210036, 40.96815230849292]]], \"type\": \"Polygon\"}, \"id\": \"20160722_194927_1058017_RapidEye-2\", \"properties\": {\"acquired\": \"2016-07-22T19:49:27Z\", \"anomalous_pixels\": 0.29, \"black_fill\": 0.29, \"catalog_id\": \"26866428\", \"cloud_cover\": 0, \"columns\": 5000, \"epsg_code\": 32610, \"grid_cell\": \"1058017\", \"ground_control\": true, \"gsd\": 6.5, \"item_type\": \"REOrthoTile\", \"origin_x\": 547500, \"origin_y\": 4560500, \"pixel_resolution\": 5, \"provider\": \"rapideye\", \"published\": \"2016-08-18T02:02:10.000Z\", \"rows\": 5000, \"satellite_id\": \"RapidEye-2\", \"strip_id\": \"26866383\", \"sun_azimuth\": 163.06153, \"sun_elevation\": 68.43489, \"updated\": \"2018-01-14T04:47:52.000Z\", \"usable_data\": 0.71, \"view_angle\": -6.35775}, \"type\": \"Feature\"}, {\"_links\": {\"_self\": \"https://api.planet.com/data/v1/item-types/REOrthoTile/items/20160722_194935_1057816_RapidEye-2\", \"assets\": \"https://api.planet.com/data/v1/item-types/REOrthoTile/items/20160722_194935_1057816_RapidEye-2/assets/\", \"thumbnail\": \"https://tiles.planet.com/data/v1/item-types/REOrthoTile/items/20160722_194935_1057816_RapidEye-2/thumb\"}, \"_permissions\": [\"assets.analytic:download\", \"assets.visual:download\", \"assets.analytic_xml:download\", \"assets.visual_xml:download\", \"assets.udm:download\"], \"geometry\": {\"coordinates\": [[[-122.7215708, 40.7631297], [-122.425379, 40.7620347], [-122.4273082, 40.5368266], [-122.7225051, 40.5379119], [-122.7215708, 40.7631297]]], \"type\": \"Polygon\"}, \"id\": \"20160722_194935_1057816_RapidEye-2\", \"properties\": {\"acquired\": \"2016-07-22T19:49:35Z\", \"anomalous_pixels\": 0, \"black_fill\": 0, \"catalog_id\": \"26866415\", \"cloud_cover\": 0, \"columns\": 5000, \"epsg_code\": 32610, \"grid_cell\": \"1057816\", \"ground_control\": true, \"gsd\": 6.5, \"item_type\": \"REOrthoTile\", \"origin_x\": 523500, \"origin_y\": 4512500, \"pixel_resolution\": 5, \"provider\": \"rapideye\", \"published\": \"2016-08-18T02:02:08.000Z\", \"rows\": 5000, \"satellite_id\": \"RapidEye-2\", \"strip_id\": \"26866383\", \"sun_azimuth\": 162.08905, \"sun_elevation\": 68.78722, \"updated\": \"2018-01-14T04:45:45.000Z\", \"usable_data\": 1, \"view_angle\": -6.35775}, \"type\": \"Feature\"}, {\"_links\": {\"_self\": \"https://api.planet.com/data/v1/item-types/REOrthoTile/items/20160722_194934_1057817_RapidEye-2\", \"assets\": \"https://api.planet.com/data/v1/item-types/REOrthoTile/items/20160722_194934_1057817_RapidEye-2/assets/\", \"thumbnail\": \"https://tiles.planet.com/data/v1/item-types/REOrthoTile/items/20160722_194934_1057817_RapidEye-2/thumb\"}, \"_permissions\": [\"assets.analytic:download\", \"assets.visual:download\", \"assets.analytic_xml:download\", \"assets.visual_xml:download\", \"assets.udm:download\"], \"geometry\": {\"coordinates\": [[[-122.39595756576644, 40.53661992878717], [-122.4391157, 40.5368846], [-122.4372263, 40.7620931], [-122.32197088502336, 40.761383207276225], [-122.352110239388, 40.6701136592235], [-122.39595756576644, 40.53661992878717]]], \"type\": \"Polygon\"}, \"id\": \"20160722_194934_1057817_RapidEye-2\", \"properties\": {\"acquired\": \"2016-07-22T19:49:34Z\", \"anomalous_pixels\": 0.76, \"black_fill\": 0.76, \"catalog_id\": \"26866417\", \"cloud_cover\": 0, \"columns\": 5000, \"epsg_code\": 32610, \"grid_cell\": \"1057817\", \"ground_control\": true, \"gsd\": 6.5, \"item_type\": \"REOrthoTile\", \"origin_x\": 547500, \"origin_y\": 4512500, \"pixel_resolution\": 5, \"provider\": \"rapideye\", \"published\": \"2016-08-18T02:02:08.000Z\", \"rows\": 5000, \"satellite_id\": \"RapidEye-2\", \"strip_id\": \"26866383\", \"sun_azimuth\": 162.79695, \"sun_elevation\": 68.8531, \"updated\": \"2018-01-14T04:43:21.000Z\", \"usable_data\": 0.24, \"view_angle\": -6.35775}, \"type\": \"Feature\"}, {\"_links\": {\"_self\": \"https://api.planet.com/data/v1/item-types/REOrthoTile/items/20160717_194449_1057918_RapidEye-2\", \"assets\": \"https://api.planet.com/data/v1/item-types/REOrthoTile/items/20160717_194449_1057918_RapidEye-2/assets/\", \"thumbnail\": \"https://tiles.planet.com/data/v1/item-types/REOrthoTile/items/20160717_194449_1057918_RapidEye-2/thumb\"}, \"_permissions\": [\"assets.analytic:download\", \"assets.visual:download\", \"assets.analytic_xml:download\", \"assets.visual_xml:download\", \"assets.udm:download\"], \"geometry\": {\"coordinates\": [[[-122.03855923924787, 40.9755691387964], [-121.8530397, 40.9739623], [-121.8569181, 40.7487961], [-122.11080718658103, 40.75098490546397], [-122.105586401127, 40.7672943069805], [-122.03855923924787, 40.9755691387964]]], \"type\": \"Polygon\"}, \"id\": \"20160717_194449_1057918_RapidEye-2\", \"properties\": {\"acquired\": \"2016-07-17T19:44:49Z\", \"anomalous_pixels\": 0.27, \"black_fill\": 0.26, \"catalog_id\": \"26764106\", \"cloud_cover\": 0.01, \"columns\": 5000, \"epsg_code\": 32610, \"grid_cell\": \"1057918\", \"ground_control\": true, \"gsd\": 6.5, \"item_type\": \"REOrthoTile\", \"origin_x\": 571500, \"origin_y\": 4536500, \"pixel_resolution\": 5, \"provider\": \"rapideye\", \"published\": \"2016-08-18T01:57:47.000Z\", \"rows\": 5000, \"satellite_id\": \"RapidEye-2\", \"strip_id\": \"26763992\", \"sun_azimuth\": 160.16744, \"sun_elevation\": 69.36971, \"updated\": \"2018-01-14T06:21:51.000Z\", \"usable_data\": 0.73, \"view_angle\": -6.03489}, \"type\": \"Feature\"}, {\"_links\": {\"_self\": \"https://api.planet.com/data/v1/item-types/REOrthoTile/items/20160717_194445_1058018_RapidEye-2\", \"assets\": \"https://api.planet.com/data/v1/item-types/REOrthoTile/items/20160717_194445_1058018_RapidEye-2/assets/\", \"thumbnail\": \"https://tiles.planet.com/data/v1/item-types/REOrthoTile/items/20160717_194445_1058018_RapidEye-2/thumb\"}, \"_permissions\": [\"assets.analytic:download\", \"assets.visual:download\", \"assets.analytic_xml:download\", \"assets.visual_xml:download\", \"assets.udm:download\"], \"geometry\": {\"coordinates\": [[[-121.96883101740707, 41.19115336219506], [-121.8492754, 41.1901137], [-121.8531957, 40.9649558], [-122.0414501862487, 40.96658604174283], [-122.035369141018, 40.9854817944076], [-121.96883101740707, 41.19115336219506]]], \"type\": \"Polygon\"}, \"id\": \"20160717_194445_1058018_RapidEye-2\", \"properties\": {\"acquired\": \"2016-07-17T19:44:45Z\", \"anomalous_pixels\": 0.49, \"black_fill\": 0.49, \"catalog_id\": \"26764055\", \"cloud_cover\": 0, \"columns\": 5000, \"epsg_code\": 32610, \"grid_cell\": \"1058018\", \"ground_control\": true, \"gsd\": 6.5, \"item_type\": \"REOrthoTile\", \"origin_x\": 571500, \"origin_y\": 4560500, \"pixel_resolution\": 5, \"provider\": \"rapideye\", \"published\": \"2016-08-18T01:57:40.000Z\", \"rows\": 5000, \"satellite_id\": \"RapidEye-2\", \"strip_id\": \"26763992\", \"sun_azimuth\": 160.33253, \"sun_elevation\": 69.16366, \"updated\": \"2018-01-14T06:22:20.000Z\", \"usable_data\": 0.51, \"view_angle\": -6.03489}, \"type\": \"Feature\"}, {\"_links\": {\"_self\": \"https://api.planet.com/data/v1/item-types/REOrthoTile/items/20160717_194452_1057818_RapidEye-2\", \"assets\": \"https://api.planet.com/data/v1/item-types/REOrthoTile/items/20160717_194452_1057818_RapidEye-2/assets/\", \"thumbnail\": \"https://tiles.planet.com/data/v1/item-types/REOrthoTile/items/20160717_194452_1057818_RapidEye-2/thumb\"}, \"_permissions\": [\"assets.analytic:download\", \"assets.visual:download\", \"assets.analytic_xml:download\", \"assets.visual_xml:download\", \"assets.udm:download\"], \"geometry\": {\"coordinates\": [[[-122.10793141615157, 40.75996862927649], [-121.8567639, 40.7578029], [-121.8605994, 40.5326273], [-122.1557452, 40.5351613], [-122.15475383989121, 40.61369835721298], [-122.10793141615157, 40.75996862927649]]], \"type\": \"Polygon\"}, \"id\": \"20160717_194452_1057818_RapidEye-2\", \"properties\": {\"acquired\": \"2016-07-17T19:44:52Z\", \"anomalous_pixels\": 0.06, \"black_fill\": 0.05, \"catalog_id\": \"26764041\", \"cloud_cover\": 0.01, \"columns\": 5000, \"epsg_code\": 32610, \"grid_cell\": \"1057818\", \"ground_control\": true, \"gsd\": 6.5, \"item_type\": \"REOrthoTile\", \"origin_x\": 571500, \"origin_y\": 4512500, \"pixel_resolution\": 5, \"provider\": \"rapideye\", \"published\": \"2016-08-18T01:57:39.000Z\", \"rows\": 5000, \"satellite_id\": \"RapidEye-2\", \"strip_id\": \"26763992\", \"sun_azimuth\": 159.99898, \"sun_elevation\": 69.57557, \"updated\": \"2018-01-14T06:18:28.000Z\", \"usable_data\": 0.94, \"view_angle\": -6.03489}, \"type\": \"Feature\"}, {\"_links\": {\"_self\": \"https://api.planet.com/data/v1/item-types/REOrthoTile/items/20160713_193341_1057918_RapidEye-3\", \"assets\": \"https://api.planet.com/data/v1/item-types/REOrthoTile/items/20160713_193341_1057918_RapidEye-3/assets/\", \"thumbnail\": \"https://tiles.planet.com/data/v1/item-types/REOrthoTile/items/20160713_193341_1057918_RapidEye-3/thumb\"}, \"_permissions\": [\"assets.analytic:download\", \"assets.visual:download\", \"assets.analytic_xml:download\", \"assets.visual_xml:download\", \"assets.udm:download\"], \"geometry\": {\"coordinates\": [[[-121.86936112975344, 40.74890337271455], [-122.1530169, 40.7513488], [-122.1501432, 40.9765356], [-121.8530397, 40.9739623], [-121.85619913163137, 40.79053686306805], [-121.86936112975344, 40.74890337271455]]], \"type\": \"Polygon\"}, \"id\": \"20160713_193341_1057918_RapidEye-3\", \"properties\": {\"acquired\": \"2016-07-13T19:33:41Z\", \"anomalous_pixels\": 0.01, \"black_fill\": 0.01, \"catalog_id\": \"26693514\", \"cloud_cover\": 0, \"columns\": 5000, \"epsg_code\": 32610, \"grid_cell\": \"1057918\", \"ground_control\": true, \"gsd\": 6.5, \"item_type\": \"REOrthoTile\", \"origin_x\": 571500, \"origin_y\": 4536500, \"pixel_resolution\": 5, \"provider\": \"rapideye\", \"published\": \"2016-08-18T01:56:15.000Z\", \"rows\": 5000, \"satellite_id\": \"RapidEye-3\", \"strip_id\": \"26693401\", \"sun_azimuth\": 152.86495, \"sun_elevation\": 69.17798, \"updated\": \"2018-01-14T02:37:04.000Z\", \"usable_data\": 0.99, \"view_angle\": 0.12415}, \"type\": \"Feature\"}, {\"_links\": {\"_self\": \"https://api.planet.com/data/v1/item-types/REOrthoTile/items/20160713_193341_1057917_RapidEye-3\", \"assets\": \"https://api.planet.com/data/v1/item-types/REOrthoTile/items/20160713_193341_1057917_RapidEye-3/assets/\", \"thumbnail\": \"https://tiles.planet.com/data/v1/item-types/REOrthoTile/items/20160713_193341_1057917_RapidEye-3/thumb\"}, \"_permissions\": [\"assets.analytic:download\", \"assets.visual:download\", \"assets.analytic_xml:download\", \"assets.visual_xml:download\", \"assets.udm:download\"], \"geometry\": {\"coordinates\": [[[-122.4353931, 40.9782852], [-122.1382584, 40.9764474], [-122.1411722, 40.7512613], [-122.4373022, 40.7530849], [-122.4353931, 40.9782852]]], \"type\": \"Polygon\"}, \"id\": \"20160713_193341_1057917_RapidEye-3\", \"properties\": {\"acquired\": \"2016-07-13T19:33:41Z\", \"anomalous_pixels\": 0, \"black_fill\": 0, \"catalog_id\": \"26693513\", \"cloud_cover\": 0, \"columns\": 5000, \"epsg_code\": 32610, \"grid_cell\": \"1057917\", \"ground_control\": true, \"gsd\": 6.5, \"item_type\": \"REOrthoTile\", \"origin_x\": 547500, \"origin_y\": 4536500, \"pixel_resolution\": 5, \"provider\": \"rapideye\", \"published\": \"2016-08-18T01:56:15.000Z\", \"rows\": 5000, \"satellite_id\": \"RapidEye-3\", \"strip_id\": \"26693401\", \"sun_azimuth\": 152.18535, \"sun_elevation\": 69.07733, \"updated\": \"2018-01-14T02:37:04.000Z\", \"usable_data\": 1, \"view_angle\": 0.12415}, \"type\": \"Feature\"}, {\"_links\": {\"_self\": \"https://api.planet.com/data/v1/item-types/REOrthoTile/items/20160713_193342_1057916_RapidEye-3\", \"assets\": \"https://api.planet.com/data/v1/item-types/REOrthoTile/items/20160713_193342_1057916_RapidEye-3/assets/\", \"thumbnail\": \"https://tiles.planet.com/data/v1/item-types/REOrthoTile/items/20160713_193342_1057916_RapidEye-3/thumb\"}, \"_permissions\": [\"assets.analytic:download\", \"assets.visual:download\", \"assets.analytic_xml:download\", \"assets.visual_xml:download\", \"assets.udm:download\"], \"geometry\": {\"coordinates\": [[[-122.7206629, 40.9793296], [-122.4235073, 40.9782264], [-122.4254565, 40.7530266], [-122.7216084, 40.7541212], [-122.7206629, 40.9793296]]], \"type\": \"Polygon\"}, \"id\": \"20160713_193342_1057916_RapidEye-3\", \"properties\": {\"acquired\": \"2016-07-13T19:33:42Z\", \"anomalous_pixels\": 0, \"black_fill\": 0, \"catalog_id\": \"26693512\", \"cloud_cover\": 0, \"columns\": 5000, \"epsg_code\": 32610, \"grid_cell\": \"1057916\", \"ground_control\": true, \"gsd\": 6.5, \"item_type\": \"REOrthoTile\", \"origin_x\": 523500, \"origin_y\": 4536500, \"pixel_resolution\": 5, \"provider\": \"rapideye\", \"published\": \"2016-08-18T01:56:14.000Z\", \"rows\": 5000, \"satellite_id\": \"RapidEye-3\", \"strip_id\": \"26693401\", \"sun_azimuth\": 151.51069, \"sun_elevation\": 68.97508, \"updated\": \"2018-01-14T02:37:04.000Z\", \"usable_data\": 1, \"view_angle\": 0.12415}, \"type\": \"Feature\"}, {\"_links\": {\"_self\": \"https://api.planet.com/data/v1/item-types/REOrthoTile/items/20160713_193339_1058016_RapidEye-3\", \"assets\": \"https://api.planet.com/data/v1/item-types/REOrthoTile/items/20160713_193339_1058016_RapidEye-3/assets/\", \"thumbnail\": \"https://tiles.planet.com/data/v1/item-types/REOrthoTile/items/20160713_193339_1058016_RapidEye-3/thumb\"}, \"_permissions\": [\"assets.analytic:download\", \"assets.visual:download\", \"assets.analytic_xml:download\", \"assets.visual_xml:download\", \"assets.udm:download\"], \"geometry\": {\"coordinates\": [[[-122.6801996266206, 41.19537414858347], [-122.4216143, 41.19441], [-122.4235857, 40.9692185], [-122.7207009, 40.9703215], [-122.7203073406969, 41.06315652085881], [-122.712490444579, 41.0890384228526], [-122.6801996266206, 41.19537414858347]]], \"type\": \"Polygon\"}, \"id\": \"20160713_193339_1058016_RapidEye-3\", \"properties\": {\"acquired\": \"2016-07-13T19:33:39Z\", \"anomalous_pixels\": 0.05, \"black_fill\": 0.04, \"catalog_id\": \"26693462\", \"cloud_cover\": 0.01, \"columns\": 5000, \"epsg_code\": 32610, \"grid_cell\": \"1058016\", \"ground_control\": true, \"gsd\": 6.5, \"item_type\": \"REOrthoTile\", \"origin_x\": 523500, \"origin_y\": 4560500, \"pixel_resolution\": 5, \"provider\": \"rapideye\", \"published\": \"2016-08-18T01:56:09.000Z\", \"rows\": 5000, \"satellite_id\": \"RapidEye-3\", \"strip_id\": \"26693401\", \"sun_azimuth\": 151.74577, \"sun_elevation\": 68.78042, \"updated\": \"2018-01-14T02:39:52.000Z\", \"usable_data\": 0.95, \"view_angle\": 0.12415}, \"type\": \"Feature\"}, {\"_links\": {\"_self\": \"https://api.planet.com/data/v1/item-types/REOrthoTile/items/20160713_193338_1058017_RapidEye-3\", \"assets\": \"https://api.planet.com/data/v1/item-types/REOrthoTile/items/20160713_193338_1058017_RapidEye-3/assets/\", \"thumbnail\": \"https://tiles.planet.com/data/v1/item-types/REOrthoTile/items/20160713_193338_1058017_RapidEye-3/thumb\"}, \"_permissions\": [\"assets.analytic:download\", \"assets.visual:download\", \"assets.analytic_xml:download\", \"assets.visual_xml:download\", \"assets.udm:download\"], \"geometry\": {\"coordinates\": [[[-122.4335392, 41.1944692], [-122.1354292, 41.1926169], [-122.1383756, 40.9674401], [-122.4354699, 40.9692773], [-122.4335392, 41.1944692]]], \"type\": \"Polygon\"}, \"id\": \"20160713_193338_1058017_RapidEye-3\", \"properties\": {\"acquired\": \"2016-07-13T19:33:38Z\", \"anomalous_pixels\": 0, \"black_fill\": 0, \"catalog_id\": \"26693463\", \"cloud_cover\": 0, \"columns\": 5000, \"epsg_code\": 32610, \"grid_cell\": \"1058017\", \"ground_control\": true, \"gsd\": 6.5, \"item_type\": \"REOrthoTile\", \"origin_x\": 547500, \"origin_y\": 4560500, \"pixel_resolution\": 5, \"provider\": \"rapideye\", \"published\": \"2016-08-18T01:56:09.000Z\", \"rows\": 5000, \"satellite_id\": \"RapidEye-3\", \"strip_id\": \"26693401\", \"sun_azimuth\": 152.41796, \"sun_elevation\": 68.88191, \"updated\": \"2018-01-14T02:39:53.000Z\", \"usable_data\": 1, \"view_angle\": 0.12415}, \"type\": \"Feature\"}, {\"_links\": {\"_self\": \"https://api.planet.com/data/v1/item-types/REOrthoTile/items/20160713_193337_1058018_RapidEye-3\", \"assets\": \"https://api.planet.com/data/v1/item-types/REOrthoTile/items/20160713_193337_1058018_RapidEye-3/assets/\", \"thumbnail\": \"https://tiles.planet.com/data/v1/item-types/REOrthoTile/items/20160713_193337_1058018_RapidEye-3/thumb\"}, \"_permissions\": [\"assets.analytic:download\", \"assets.visual:download\", \"assets.analytic_xml:download\", \"assets.visual_xml:download\", \"assets.udm:download\"], \"geometry\": {\"coordinates\": [[[-122.1473531, 41.1927058], [-121.8492754, 41.1901137], [-121.8531957, 40.9649558], [-122.1502588, 40.9675283], [-122.1473531, 41.1927058]]], \"type\": \"Polygon\"}, \"id\": \"20160713_193337_1058018_RapidEye-3\", \"properties\": {\"acquired\": \"2016-07-13T19:33:37Z\", \"anomalous_pixels\": 0, \"black_fill\": 0, \"catalog_id\": \"26693464\", \"cloud_cover\": 0, \"columns\": 5000, \"epsg_code\": 32610, \"grid_cell\": \"1058018\", \"ground_control\": true, \"gsd\": 6.5, \"item_type\": \"REOrthoTile\", \"origin_x\": 571500, \"origin_y\": 4560500, \"pixel_resolution\": 5, \"provider\": \"rapideye\", \"published\": \"2016-08-18T01:56:09.000Z\", \"rows\": 5000, \"satellite_id\": \"RapidEye-3\", \"strip_id\": \"26693401\", \"sun_azimuth\": 153.09497, \"sun_elevation\": 68.98181, \"updated\": \"2018-01-14T02:39:53.000Z\", \"usable_data\": 1, \"view_angle\": 0.12415}, \"type\": \"Feature\"}, {\"_links\": {\"_self\": \"https://api.planet.com/data/v1/item-types/REOrthoTile/items/20160713_193345_1057817_RapidEye-3\", \"assets\": \"https://api.planet.com/data/v1/item-types/REOrthoTile/items/20160713_193345_1057817_RapidEye-3/assets/\", \"thumbnail\": \"https://tiles.planet.com/data/v1/item-types/REOrthoTile/items/20160713_193345_1057817_RapidEye-3/thumb\"}, \"_permissions\": [\"assets.analytic:download\", \"assets.visual:download\", \"assets.analytic_xml:download\", \"assets.visual_xml:download\", \"assets.udm:download\"], \"geometry\": {\"coordinates\": [[[-122.4372263, 40.7620931], [-122.1410563, 40.7602689], [-122.1439387, 40.5350744], [-122.4391157, 40.5368846], [-122.4372263, 40.7620931]]], \"type\": \"Polygon\"}, \"id\": \"20160713_193345_1057817_RapidEye-3\", \"properties\": {\"acquired\": \"2016-07-13T19:33:45Z\", \"anomalous_pixels\": 0, \"black_fill\": 0, \"catalog_id\": \"26693446\", \"cloud_cover\": 0, \"columns\": 5000, \"epsg_code\": 32610, \"grid_cell\": \"1057817\", \"ground_control\": true, \"gsd\": 6.5, \"item_type\": \"REOrthoTile\", \"origin_x\": 547500, \"origin_y\": 4512500, \"pixel_resolution\": 5, \"provider\": \"rapideye\", \"published\": \"2016-08-18T01:56:08.000Z\", \"rows\": 5000, \"satellite_id\": \"RapidEye-3\", \"strip_id\": \"26693401\", \"sun_azimuth\": 151.94827, \"sun_elevation\": 69.27239, \"updated\": \"2018-01-14T02:37:02.000Z\", \"usable_data\": 1, \"view_angle\": 0.12415}, \"type\": \"Feature\"}, {\"_links\": {\"_self\": \"https://api.planet.com/data/v1/item-types/REOrthoTile/items/20160713_193345_1057816_RapidEye-3\", \"assets\": \"https://api.planet.com/data/v1/item-types/REOrthoTile/items/20160713_193345_1057816_RapidEye-3/assets/\", \"thumbnail\": \"https://tiles.planet.com/data/v1/item-types/REOrthoTile/items/20160713_193345_1057816_RapidEye-3/thumb\"}, \"_permissions\": [\"assets.analytic:download\", \"assets.visual:download\", \"assets.analytic_xml:download\", \"assets.visual_xml:download\", \"assets.udm:download\"], \"geometry\": {\"coordinates\": [[[-122.7215708, 40.7631297], [-122.425379, 40.7620347], [-122.4273082, 40.5368266], [-122.7225051, 40.5379119], [-122.7215708, 40.7631297]]], \"type\": \"Polygon\"}, \"id\": \"20160713_193345_1057816_RapidEye-3\", \"properties\": {\"acquired\": \"2016-07-13T19:33:45Z\", \"anomalous_pixels\": 0, \"black_fill\": 0, \"catalog_id\": \"26693445\", \"cloud_cover\": 0, \"columns\": 5000, \"epsg_code\": 32610, \"grid_cell\": \"1057816\", \"ground_control\": true, \"gsd\": 6.5, \"item_type\": \"REOrthoTile\", \"origin_x\": 523500, \"origin_y\": 4512500, \"pixel_resolution\": 5, \"provider\": \"rapideye\", \"published\": \"2016-08-18T01:56:08.000Z\", \"rows\": 5000, \"satellite_id\": \"RapidEye-3\", \"strip_id\": \"26693401\", \"sun_azimuth\": 151.2711, \"sun_elevation\": 69.16937, \"updated\": \"2018-01-14T02:40:25.000Z\", \"usable_data\": 1, \"view_angle\": 0.12415}, \"type\": \"Feature\"}, {\"_links\": {\"_self\": \"https://api.planet.com/data/v1/item-types/REOrthoTile/items/20160713_193344_1057818_RapidEye-3\", \"assets\": \"https://api.planet.com/data/v1/item-types/REOrthoTile/items/20160713_193344_1057818_RapidEye-3/assets/\", \"thumbnail\": \"https://tiles.planet.com/data/v1/item-types/REOrthoTile/items/20160713_193344_1057818_RapidEye-3/thumb\"}, \"_permissions\": [\"assets.analytic:download\", \"assets.visual:download\", \"assets.analytic_xml:download\", \"assets.visual_xml:download\", \"assets.udm:download\"], \"geometry\": {\"coordinates\": [[[-121.93715210947941, 40.533284549961955], [-122.1557452, 40.5351613], [-122.1529026, 40.7603564], [-121.86652103850429, 40.75788703237841], [-121.870829812915, 40.7442576946289], [-121.93715210947941, 40.533284549961955]]], \"type\": \"Polygon\"}, \"id\": \"20160713_193344_1057818_RapidEye-3\", \"properties\": {\"acquired\": \"2016-07-13T19:33:44Z\", \"anomalous_pixels\": 0.16, \"black_fill\": 0.16, \"catalog_id\": \"26693448\", \"cloud_cover\": 0, \"columns\": 5000, \"epsg_code\": 32610, \"grid_cell\": \"1057818\", \"ground_control\": true, \"gsd\": 6.5, \"item_type\": \"REOrthoTile\", \"origin_x\": 571500, \"origin_y\": 4512500, \"pixel_resolution\": 5, \"provider\": \"rapideye\", \"published\": \"2016-08-18T01:56:08.000Z\", \"rows\": 5000, \"satellite_id\": \"RapidEye-3\", \"strip_id\": \"26693401\", \"sun_azimuth\": 152.63049, \"sun_elevation\": 69.3738, \"updated\": \"2018-01-14T02:37:03.000Z\", \"usable_data\": 0.84, \"view_angle\": 0.12415}, \"type\": \"Feature\"}, {\"_links\": {\"_self\": \"https://api.planet.com/data/v1/item-types/REOrthoTile/items/20160719_193838_1057917_RapidEye-4\", \"assets\": \"https://api.planet.com/data/v1/item-types/REOrthoTile/items/20160719_193838_1057917_RapidEye-4/assets/\", \"thumbnail\": \"https://tiles.planet.com/data/v1/item-types/REOrthoTile/items/20160719_193838_1057917_RapidEye-4/thumb\"}, \"_permissions\": [\"assets.analytic:download\", \"assets.visual:download\", \"assets.analytic_xml:download\", \"assets.visual_xml:download\", \"assets.udm:download\"], \"geometry\": {\"coordinates\": [[[-122.26588311028702, 40.752029283034474], [-122.4373022, 40.7530849], [-122.4353931, 40.9782852], [-122.1896034277359, 40.97676497277751], [-122.225485817743, 40.8713910681955], [-122.26588311028702, 40.752029283034474]]], \"type\": \"Polygon\"}, \"id\": \"20160719_193838_1057917_RapidEye-4\", \"properties\": {\"acquired\": \"2016-07-19T19:38:38Z\", \"anomalous_pixels\": 0.32, \"black_fill\": 0.32, \"catalog_id\": \"26806245\", \"cloud_cover\": 0, \"columns\": 5000, \"epsg_code\": 32610, \"grid_cell\": \"1057917\", \"ground_control\": true, \"gsd\": 6.5, \"item_type\": \"REOrthoTile\", \"origin_x\": 547500, \"origin_y\": 4536500, \"pixel_resolution\": 5, \"provider\": \"rapideye\", \"published\": \"2016-08-18T01:53:46.000Z\", \"rows\": 5000, \"satellite_id\": \"RapidEye-4\", \"strip_id\": \"26806167\", \"sun_azimuth\": 155.85562, \"sun_elevation\": 68.49215, \"updated\": \"2018-01-14T05:43:11.000Z\", \"usable_data\": 0.68, \"view_angle\": -9.85326}, \"type\": \"Feature\"}, {\"_links\": {\"_self\": \"https://api.planet.com/data/v1/item-types/REOrthoTile/items/20160719_193838_1057916_RapidEye-4\", \"assets\": \"https://api.planet.com/data/v1/item-types/REOrthoTile/items/20160719_193838_1057916_RapidEye-4/assets/\", \"thumbnail\": \"https://tiles.planet.com/data/v1/item-types/REOrthoTile/items/20160719_193838_1057916_RapidEye-4/thumb\"}, \"_permissions\": [\"assets.analytic:download\", \"assets.visual:download\", \"assets.analytic_xml:download\", \"assets.visual_xml:download\", \"assets.udm:download\"], \"geometry\": {\"coordinates\": [[[-122.7206629, 40.9793296], [-122.4235073, 40.9782264], [-122.4254565, 40.7530266], [-122.7216084, 40.7541212], [-122.7206629, 40.9793296]]], \"type\": \"Polygon\"}, \"id\": \"20160719_193838_1057916_RapidEye-4\", \"properties\": {\"acquired\": \"2016-07-19T19:38:38Z\", \"anomalous_pixels\": 0.04, \"black_fill\": 0, \"catalog_id\": \"26806243\", \"cloud_cover\": 0.04, \"columns\": 5000, \"epsg_code\": 32610, \"grid_cell\": \"1057916\", \"ground_control\": true, \"gsd\": 6.5, \"item_type\": \"REOrthoTile\", \"origin_x\": 523500, \"origin_y\": 4536500, \"pixel_resolution\": 5, \"provider\": \"rapideye\", \"published\": \"2016-08-18T01:53:46.000Z\", \"rows\": 5000, \"satellite_id\": \"RapidEye-4\", \"strip_id\": \"26806167\", \"sun_azimuth\": 155.18022, \"sun_elevation\": 68.4022, \"updated\": \"2018-01-14T05:45:57.000Z\", \"usable_data\": 0.96, \"view_angle\": -9.85326}, \"type\": \"Feature\"}, {\"_links\": {\"_self\": \"https://api.planet.com/data/v1/item-types/REOrthoTile/items/20160719_193835_1058016_RapidEye-4\", \"assets\": \"https://api.planet.com/data/v1/item-types/REOrthoTile/items/20160719_193835_1058016_RapidEye-4/assets/\", \"thumbnail\": \"https://tiles.planet.com/data/v1/item-types/REOrthoTile/items/20160719_193835_1058016_RapidEye-4/thumb\"}, \"_permissions\": [\"assets.analytic:download\", \"assets.visual:download\", \"assets.analytic_xml:download\", \"assets.visual_xml:download\", \"assets.udm:download\"], \"geometry\": {\"coordinates\": [[[-122.7197462, 41.1955216], [-122.4216143, 41.19441], [-122.4235857, 40.9692185], [-122.7207009, 40.9703215], [-122.7197462, 41.1955216]]], \"type\": \"Polygon\"}, \"id\": \"20160719_193835_1058016_RapidEye-4\", \"properties\": {\"acquired\": \"2016-07-19T19:38:35Z\", \"anomalous_pixels\": 0.06, \"black_fill\": 0, \"catalog_id\": \"26806207\", \"cloud_cover\": 0.06, \"columns\": 5000, \"epsg_code\": 32610, \"grid_cell\": \"1058016\", \"ground_control\": true, \"gsd\": 6.5, \"item_type\": \"REOrthoTile\", \"origin_x\": 523500, \"origin_y\": 4560500, \"pixel_resolution\": 5, \"provider\": \"rapideye\", \"published\": \"2016-08-18T01:53:41.000Z\", \"rows\": 5000, \"satellite_id\": \"RapidEye-4\", \"strip_id\": \"26806167\", \"sun_azimuth\": 155.37675, \"sun_elevation\": 68.20196, \"updated\": \"2018-01-14T05:42:38.000Z\", \"usable_data\": 0.94, \"view_angle\": -9.85326}, \"type\": \"Feature\"}, {\"_links\": {\"_self\": \"https://api.planet.com/data/v1/item-types/REOrthoTile/items/20160719_193834_1058017_RapidEye-4\", \"assets\": \"https://api.planet.com/data/v1/item-types/REOrthoTile/items/20160719_193834_1058017_RapidEye-4/assets/\", \"thumbnail\": \"https://tiles.planet.com/data/v1/item-types/REOrthoTile/items/20160719_193834_1058017_RapidEye-4/thumb\"}, \"_permissions\": [\"assets.analytic:download\", \"assets.visual:download\", \"assets.analytic_xml:download\", \"assets.visual_xml:download\", \"assets.udm:download\"], \"geometry\": {\"coordinates\": [[[-122.19266445512703, 40.96777581658776], [-122.4354699, 40.9692773], [-122.4335392, 41.1944692], [-122.1354292, 41.1926169], [-122.13620516894908, 41.13331395238605], [-122.150849929592, 41.0905703077852], [-122.19266445512703, 40.96777581658776]]], \"type\": \"Polygon\"}, \"id\": \"20160719_193834_1058017_RapidEye-4\", \"properties\": {\"acquired\": \"2016-07-19T19:38:34Z\", \"anomalous_pixels\": 0.09, \"black_fill\": 0.09, \"catalog_id\": \"26806209\", \"cloud_cover\": 0, \"columns\": 5000, \"epsg_code\": 32610, \"grid_cell\": \"1058017\", \"ground_control\": true, \"gsd\": 6.5, \"item_type\": \"REOrthoTile\", \"origin_x\": 547500, \"origin_y\": 4560500, \"pixel_resolution\": 5, \"provider\": \"rapideye\", \"published\": \"2016-08-18T01:53:41.000Z\", \"rows\": 5000, \"satellite_id\": \"RapidEye-4\", \"strip_id\": \"26806167\", \"sun_azimuth\": 156.04932, \"sun_elevation\": 68.29126, \"updated\": \"2018-01-14T05:42:38.000Z\", \"usable_data\": 0.91, \"view_angle\": -9.85326}, \"type\": \"Feature\"}, {\"_links\": {\"_self\": \"https://api.planet.com/data/v1/item-types/REOrthoTile/items/20160719_193842_1057816_RapidEye-4\", \"assets\": \"https://api.planet.com/data/v1/item-types/REOrthoTile/items/20160719_193842_1057816_RapidEye-4/assets/\", \"thumbnail\": \"https://tiles.planet.com/data/v1/item-types/REOrthoTile/items/20160719_193842_1057816_RapidEye-4/thumb\"}, \"_permissions\": [\"assets.analytic:download\", \"assets.visual:download\", \"assets.analytic_xml:download\", \"assets.visual_xml:download\", \"assets.udm:download\"], \"geometry\": {\"coordinates\": [[[-122.7215708, 40.7631297], [-122.425379, 40.7620347], [-122.4273082, 40.5368266], [-122.7225051, 40.5379119], [-122.7215708, 40.7631297]]], \"type\": \"Polygon\"}, \"id\": \"20160719_193842_1057816_RapidEye-4\", \"properties\": {\"acquired\": \"2016-07-19T19:38:42Z\", \"anomalous_pixels\": 0, \"black_fill\": 0, \"catalog_id\": \"26806199\", \"cloud_cover\": 0, \"columns\": 5000, \"epsg_code\": 32610, \"grid_cell\": \"1057816\", \"ground_control\": true, \"gsd\": 6.5, \"item_type\": \"REOrthoTile\", \"origin_x\": 523500, \"origin_y\": 4512500, \"pixel_resolution\": 5, \"provider\": \"rapideye\", \"published\": \"2016-08-18T01:53:40.000Z\", \"rows\": 5000, \"satellite_id\": \"RapidEye-4\", \"strip_id\": \"26806167\", \"sun_azimuth\": 154.97992, \"sun_elevation\": 68.60217, \"updated\": \"2018-01-14T05:41:54.000Z\", \"usable_data\": 1, \"view_angle\": -9.85326}, \"type\": \"Feature\"}, {\"_links\": {\"_self\": \"https://api.planet.com/data/v1/item-types/REOrthoTile/items/20160719_193841_1057817_RapidEye-4\", \"assets\": \"https://api.planet.com/data/v1/item-types/REOrthoTile/items/20160719_193841_1057817_RapidEye-4/assets/\", \"thumbnail\": \"https://tiles.planet.com/data/v1/item-types/REOrthoTile/items/20160719_193841_1057817_RapidEye-4/thumb\"}, \"_permissions\": [\"assets.analytic:download\", \"assets.visual:download\", \"assets.analytic_xml:download\", \"assets.visual_xml:download\", \"assets.udm:download\"], \"geometry\": {\"coordinates\": [[[-122.33867043288541, 40.53626861019547], [-122.4391157, 40.5368846], [-122.4372263, 40.7620931], [-122.2628405915321, 40.76101900603577], [-122.299687185677, 40.6521484610742], [-122.33867043288541, 40.53626861019547]]], \"type\": \"Polygon\"}, \"id\": \"20160719_193841_1057817_RapidEye-4\", \"properties\": {\"acquired\": \"2016-07-19T19:38:41Z\", \"anomalous_pixels\": 0.56, \"black_fill\": 0.56, \"catalog_id\": \"26806201\", \"cloud_cover\": 0, \"columns\": 5000, \"epsg_code\": 32610, \"grid_cell\": \"1057817\", \"ground_control\": true, \"gsd\": 6.5, \"item_type\": \"REOrthoTile\", \"origin_x\": 547500, \"origin_y\": 4512500, \"pixel_resolution\": 5, \"provider\": \"rapideye\", \"published\": \"2016-08-18T01:53:40.000Z\", \"rows\": 5000, \"satellite_id\": \"RapidEye-4\", \"strip_id\": \"26806167\", \"sun_azimuth\": 155.65818, \"sun_elevation\": 68.69277, \"updated\": \"2018-01-14T05:41:55.000Z\", \"usable_data\": 0.44, \"view_angle\": -9.85326}, \"type\": \"Feature\"}], \"type\": \"FeatureCollection\"}\n"
          ],
          "name": "stdout"
        }
      ]
    },
    {
      "cell_type": "code",
      "metadata": {
        "id": "aILcXMEIoyBf",
        "colab_type": "code",
        "colab": {}
      },
      "source": [
        "rm=json.loads(result.text)\n",
        "rm['features']\n",
        "imageids=[]\n",
        "for feature in rm['features']:\n",
        "  imageids.append(feature['id'])"
      ],
      "execution_count": 0,
      "outputs": []
    },
    {
      "cell_type": "code",
      "metadata": {
        "id": "IO2ddMTep424",
        "colab_type": "code",
        "colab": {
          "base_uri": "https://localhost:8080/",
          "height": 54
        },
        "outputId": "daaf5dfa-a7a5-4ae3-9f2d-44714b552a33"
      },
      "source": [
        "print(imageids)\n"
      ],
      "execution_count": 21,
      "outputs": [
        {
          "output_type": "stream",
          "text": [
            "['20160707_195147_1057916_RapidEye-1', '20160707_195146_1057917_RapidEye-1', '20160707_195150_1057817_RapidEye-1', '20160707_195143_1058017_RapidEye-1', '20160707_195143_1058016_RapidEye-1', '20160707_195150_1057816_RapidEye-1', '20160722_194931_1057916_RapidEye-2', '20160722_194930_1057917_RapidEye-2', '20160722_194928_1058016_RapidEye-2', '20160722_194927_1058017_RapidEye-2', '20160722_194935_1057816_RapidEye-2', '20160722_194934_1057817_RapidEye-2', '20160717_194449_1057918_RapidEye-2', '20160717_194445_1058018_RapidEye-2', '20160717_194452_1057818_RapidEye-2', '20160713_193341_1057918_RapidEye-3', '20160713_193341_1057917_RapidEye-3', '20160713_193342_1057916_RapidEye-3', '20160713_193339_1058016_RapidEye-3', '20160713_193338_1058017_RapidEye-3', '20160713_193337_1058018_RapidEye-3', '20160713_193345_1057817_RapidEye-3', '20160713_193345_1057816_RapidEye-3', '20160713_193344_1057818_RapidEye-3', '20160719_193838_1057917_RapidEye-4', '20160719_193838_1057916_RapidEye-4', '20160719_193835_1058016_RapidEye-4', '20160719_193834_1058017_RapidEye-4', '20160719_193842_1057816_RapidEye-4', '20160719_193841_1057817_RapidEye-4']\n"
          ],
          "name": "stdout"
        }
      ]
    },
    {
      "cell_type": "code",
      "metadata": {
        "id": "ymVGQELUqKs5",
        "colab_type": "code",
        "colab": {}
      },
      "source": [
        "image1='20160707_195147_1057916_RapidEye-1'"
      ],
      "execution_count": 0,
      "outputs": []
    },
    {
      "cell_type": "code",
      "metadata": {
        "id": "ygrAw0QLqt0C",
        "colab_type": "code",
        "colab": {
          "base_uri": "https://localhost:8080/",
          "height": 34
        },
        "outputId": "c7c03d81-8c40-4c7e-8688-7bd5761339f5"
      },
      "source": [
        "import os\n",
        "import requests\n",
        "\n",
        "item_id = image1\n",
        "item_type = \"REOrthoTile\"\n",
        "asset_type = \"visual\"\n",
        "\n",
        "# setup auth\n",
        "session = requests.Session()\n",
        "session.auth = (os.environ['PL_API_KEY'], '')\n",
        "\n",
        "# request an item\n",
        "item = \\\n",
        "  session.get(\n",
        "    (\"https://api.planet.com/data/v1/item-types/\" +\n",
        "    \"{}/items/{}/assets/\").format(item_type, item_id))\n",
        "\n",
        "# extract the activation url from the item for the desired asset\n",
        "item_activation_url = item.json()[asset_type][\"_links\"][\"activate\"]\n",
        "\n",
        "# request activation\n",
        "response = session.post(item_activation_url)\n",
        "\n",
        "print (response.status_code)\n"
      ],
      "execution_count": 25,
      "outputs": [
        {
          "output_type": "stream",
          "text": [
            "204\n"
          ],
          "name": "stdout"
        }
      ]
    },
    {
      "cell_type": "code",
      "metadata": {
        "id": "y-EKj5BhrrR4",
        "colab_type": "code",
        "colab": {
          "base_uri": "https://localhost:8080/",
          "height": 34
        },
        "outputId": "c1762830-b14e-47df-bb6c-605504fed4b6"
      },
      "source": [
        "item.json()[asset_type][\"status\"]"
      ],
      "execution_count": 27,
      "outputs": [
        {
          "output_type": "execute_result",
          "data": {
            "text/plain": [
              "'active'"
            ]
          },
          "metadata": {
            "tags": []
          },
          "execution_count": 27
        }
      ]
    },
    {
      "cell_type": "code",
      "metadata": {
        "id": "EQetdauWrmgk",
        "colab_type": "code",
        "colab": {}
      },
      "source": [
        "payload = {\n",
        "   \"aoi\" : geo_json_geometry,\n",
        "   \"targets\" : [{\n",
        "       \"item_id\" : item_id,\n",
        "       \"item_type\" : item_type,\n",
        "       \"asset_type\" : asset_type\n",
        "   }]\n",
        "}\n",
        "\n",
        "request = requests.post('https://api.planet.com/compute/ops/clips/v1', auth=(os.environ['PL_API_KEY'], ''), json=payload)\n",
        "clip_url = request.json()['_links']['_self']"
      ],
      "execution_count": 0,
      "outputs": []
    },
    {
      "cell_type": "code",
      "metadata": {
        "id": "1b9X-Do4uK8n",
        "colab_type": "code",
        "colab": {}
      },
      "source": [
        "check_state_request = requests.get(clip_url, auth=(os.environ['PL_API_KEY'], ''))"
      ],
      "execution_count": 0,
      "outputs": []
    },
    {
      "cell_type": "code",
      "metadata": {
        "id": "fbtGQOQ3uRw6",
        "colab_type": "code",
        "colab": {
          "base_uri": "https://localhost:8080/",
          "height": 292
        },
        "outputId": "49a92a5c-c07a-4df5-9f9c-06c45e94980a"
      },
      "source": [
        "check_state_request.json()"
      ],
      "execution_count": 38,
      "outputs": [
        {
          "output_type": "execute_result",
          "data": {
            "text/plain": [
              "{'_links': {'_self': 'https://api.planet.com/compute/ops/clips/v1/760f664c-e629-4252-b0ab-eaf79200d955',\n",
              "  'results': ['https://api.planet.com/data/v1/download?token=eyJhbGciOiJIUzUxMiIsInR5cCI6IkpXVCJ9.eyJleHAiOjE1NTY4NzU0ODMsInN1YiI6InFsdlNuUFpMRGxQTGl6aDZGZUFrOVR2cUN2dXErZGN4SEhhQUlWR3IzbDdWS1huSDR1NmNPRzdPK256aytPSGxwejdjZ1hzUnUxVFBHcnZhWnFDOCtnPT0iLCJ0b2tlbl90eXBlIjoiZG93bmxvYWQtYXNzZXQtc3RhY2siLCJhb2kiOiJ7XCJ0eXBlXCI6IFwiUG9seWdvblwiLCBcImNvb3JkaW5hdGVzXCI6IFtbWy0xMjIuNTIyMjc3ODMyMDMxMjUsIDQwLjY2MDg0NzY5NzI4NDgxNV0sIFstMTIyLjUyMjI3NzgzMjAzMTI1LCA0MC45ODcxNTQ5MzM3OTczMzVdLCBbLTEyMi4wMTY5MDY3MzgyODEyNCwgNDAuOTg3MTU0OTMzNzk3MzM1XSwgWy0xMjIuMDE2OTA2NzM4MjgxMjQsIDQwLjY2MDg0NzY5NzI4NDgxNV0sIFstMTIyLjUyMjI3NzgzMjAzMTI1LCA0MC42NjA4NDc2OTcyODQ4MTVdXV19IiwiYXNzZXRzIjpbeyJpdGVtX3R5cGUiOiJSRU9ydGhvVGlsZSIsImFzc2V0X3R5cGUiOiJ2aXN1YWwiLCJpdGVtX2lkIjoiMjAxNjA3MDdfMTk1MTQ3XzEwNTc5MTZfUmFwaWRFeWUtMSJ9XSwidXJsIjoiaHR0cHM6Ly9wbGFuZXQtcGxhdGZvcm0tY29tcHV0ZWQtYXNzZXRzLnMzLXVzLXdlc3QtMi5hbWF6b25hd3MuY29tLzc2MGY2NjRjLWU2MjktNDI1Mi1iMGFiLWVhZjc5MjAwZDk1NS1jbGlwcy56aXA_WC1BbXotQWxnb3JpdGhtPUFXUzQtSE1BQy1TSEEyNTZcdTAwMjZYLUFtei1DcmVkZW50aWFsPUFLSUFKSzdSNFBBUlRQU1BaSERBJTJGMjAxOTA1MDMlMkZ1cy13ZXN0LTIlMkZzMyUyRmF3czRfcmVxdWVzdFx1MDAyNlgtQW16LURhdGU9MjAxOTA1MDNUMDMyNDQzWlx1MDAyNlgtQW16LUV4cGlyZXM9MzYwXHUwMDI2WC1BbXotU2lnbmVkSGVhZGVycz1ob3N0XHUwMDI2WC1BbXotU2lnbmF0dXJlPTdlOWM1YTlhNzcxNThmM2VjYTZiODY4NmMxZjU2YjMxM2RlMTgxYWQzOTU0OTYwNTRjMjQ3NTMxMjBmYTU2ZDYiLCJzb3VyY2UiOiJjbGlwX2FuZF9zaGlwIn0.ogKC0JtnUdsKyLrLkRSt6qwTS1_2z1kw6O2Qqfmwiha_REl3kD9OlanRpz3VqXxScYMIbsrlgQJDLhboThY6cg']},\n",
              " 'aoi': {'coordinates': [[[-122.52227783203125, 40.660847697284815],\n",
              "    [-122.52227783203125, 40.987154933797335],\n",
              "    [-122.01690673828124, 40.987154933797335],\n",
              "    [-122.01690673828124, 40.660847697284815],\n",
              "    [-122.52227783203125, 40.660847697284815]]],\n",
              "  'type': 'Polygon'},\n",
              " 'created_on': '2019-05-03T03:23:27.474Z',\n",
              " 'id': '760f664c-e629-4252-b0ab-eaf79200d955',\n",
              " 'last_modified': '2019-05-03T03:24:26.895Z',\n",
              " 'state': 'succeeded',\n",
              " 'targets': [{'asset_type': 'visual',\n",
              "   'item_id': '20160707_195147_1057916_RapidEye-1',\n",
              "   'item_type': 'REOrthoTile'}]}"
            ]
          },
          "metadata": {
            "tags": []
          },
          "execution_count": 38
        }
      ]
    },
    {
      "cell_type": "code",
      "metadata": {
        "id": "cICmWkvuujFJ",
        "colab_type": "code",
        "colab": {}
      },
      "source": [
        "clip_download_url = check_state_request.json()['_links']['results'][0]"
      ],
      "execution_count": 0,
      "outputs": []
    },
    {
      "cell_type": "code",
      "metadata": {
        "id": "wZuNbsghwKAx",
        "colab_type": "code",
        "colab": {}
      },
      "source": [
        ""
      ],
      "execution_count": 0,
      "outputs": []
    },
    {
      "cell_type": "code",
      "metadata": {
        "id": "Brlf-C_0umPg",
        "colab_type": "code",
        "colab": {
          "base_uri": "https://localhost:8080/",
          "height": 54
        },
        "outputId": "a40ef2a9-43c7-476e-ec00-da749921ba6a"
      },
      "source": [
        "print (clip_download_url)"
      ],
      "execution_count": 40,
      "outputs": [
        {
          "output_type": "stream",
          "text": [
            "https://api.planet.com/data/v1/download?token=eyJhbGciOiJIUzUxMiIsInR5cCI6IkpXVCJ9.eyJleHAiOjE1NTY4NzU0ODMsInN1YiI6InFsdlNuUFpMRGxQTGl6aDZGZUFrOVR2cUN2dXErZGN4SEhhQUlWR3IzbDdWS1huSDR1NmNPRzdPK256aytPSGxwejdjZ1hzUnUxVFBHcnZhWnFDOCtnPT0iLCJ0b2tlbl90eXBlIjoiZG93bmxvYWQtYXNzZXQtc3RhY2siLCJhb2kiOiJ7XCJ0eXBlXCI6IFwiUG9seWdvblwiLCBcImNvb3JkaW5hdGVzXCI6IFtbWy0xMjIuNTIyMjc3ODMyMDMxMjUsIDQwLjY2MDg0NzY5NzI4NDgxNV0sIFstMTIyLjUyMjI3NzgzMjAzMTI1LCA0MC45ODcxNTQ5MzM3OTczMzVdLCBbLTEyMi4wMTY5MDY3MzgyODEyNCwgNDAuOTg3MTU0OTMzNzk3MzM1XSwgWy0xMjIuMDE2OTA2NzM4MjgxMjQsIDQwLjY2MDg0NzY5NzI4NDgxNV0sIFstMTIyLjUyMjI3NzgzMjAzMTI1LCA0MC42NjA4NDc2OTcyODQ4MTVdXV19IiwiYXNzZXRzIjpbeyJpdGVtX3R5cGUiOiJSRU9ydGhvVGlsZSIsImFzc2V0X3R5cGUiOiJ2aXN1YWwiLCJpdGVtX2lkIjoiMjAxNjA3MDdfMTk1MTQ3XzEwNTc5MTZfUmFwaWRFeWUtMSJ9XSwidXJsIjoiaHR0cHM6Ly9wbGFuZXQtcGxhdGZvcm0tY29tcHV0ZWQtYXNzZXRzLnMzLXVzLXdlc3QtMi5hbWF6b25hd3MuY29tLzc2MGY2NjRjLWU2MjktNDI1Mi1iMGFiLWVhZjc5MjAwZDk1NS1jbGlwcy56aXA_WC1BbXotQWxnb3JpdGhtPUFXUzQtSE1BQy1TSEEyNTZcdTAwMjZYLUFtei1DcmVkZW50aWFsPUFLSUFKSzdSNFBBUlRQU1BaSERBJTJGMjAxOTA1MDMlMkZ1cy13ZXN0LTIlMkZzMyUyRmF3czRfcmVxdWVzdFx1MDAyNlgtQW16LURhdGU9MjAxOTA1MDNUMDMyNDQzWlx1MDAyNlgtQW16LUV4cGlyZXM9MzYwXHUwMDI2WC1BbXotU2lnbmVkSGVhZGVycz1ob3N0XHUwMDI2WC1BbXotU2lnbmF0dXJlPTdlOWM1YTlhNzcxNThmM2VjYTZiODY4NmMxZjU2YjMxM2RlMTgxYWQzOTU0OTYwNTRjMjQ3NTMxMjBmYTU2ZDYiLCJzb3VyY2UiOiJjbGlwX2FuZF9zaGlwIn0.ogKC0JtnUdsKyLrLkRSt6qwTS1_2z1kw6O2Qqfmwiha_REl3kD9OlanRpz3VqXxScYMIbsrlgQJDLhboThY6cg\n"
          ],
          "name": "stdout"
        }
      ]
    },
    {
      "cell_type": "code",
      "metadata": {
        "id": "VtVM0WvowLWr",
        "colab_type": "code",
        "colab": {}
      },
      "source": [
        "import zipfile"
      ],
      "execution_count": 0,
      "outputs": []
    },
    {
      "cell_type": "code",
      "metadata": {
        "id": "OBSmAwD6ww9c",
        "colab_type": "code",
        "colab": {}
      },
      "source": [
        "from tqdm import tqdm"
      ],
      "execution_count": 0,
      "outputs": []
    },
    {
      "cell_type": "code",
      "metadata": {
        "id": "_ZnnKA2Lwy7b",
        "colab_type": "code",
        "colab": {
          "base_uri": "https://localhost:8080/",
          "height": 34
        },
        "outputId": "35bbed5e-3637-48e3-86b2-f0168d2b256f"
      },
      "source": [
        "response = requests.get(clip_download_url, stream=True)\n",
        "with open(item_id + '.zip', \"wb\") as handle:\n",
        "   for data in tqdm(response.iter_content()):\n",
        "       handle.write(data)"
      ],
      "execution_count": 57,
      "outputs": [
        {
          "output_type": "stream",
          "text": [
            "367it [00:00, 51407.99it/s]\n"
          ],
          "name": "stderr"
        }
      ]
    },
    {
      "cell_type": "code",
      "metadata": {
        "colab_type": "code",
        "outputId": "ffb26566-e3cc-418e-926b-d416006ddec8",
        "id": "PP-6vUJfwESN",
        "colab": {
          "base_uri": "https://localhost:8080/",
          "height": 324
        }
      },
      "source": [
        "zipped_item = zipfile.ZipFile('./'+item_id + '.zip')\n",
        "zipped_item.extractall(item_id)"
      ],
      "execution_count": 59,
      "outputs": [
        {
          "output_type": "error",
          "ename": "BadZipFile",
          "evalue": "ignored",
          "traceback": [
            "\u001b[0;31m---------------------------------------------------------------------------\u001b[0m",
            "\u001b[0;31mBadZipFile\u001b[0m                                Traceback (most recent call last)",
            "\u001b[0;32m<ipython-input-59-0ba6b1a0bbe6>\u001b[0m in \u001b[0;36m<module>\u001b[0;34m()\u001b[0m\n\u001b[0;32m----> 1\u001b[0;31m \u001b[0mzipped_item\u001b[0m \u001b[0;34m=\u001b[0m \u001b[0mzipfile\u001b[0m\u001b[0;34m.\u001b[0m\u001b[0mZipFile\u001b[0m\u001b[0;34m(\u001b[0m\u001b[0;34m'./'\u001b[0m\u001b[0;34m+\u001b[0m\u001b[0mitem_id\u001b[0m \u001b[0;34m+\u001b[0m \u001b[0;34m'.zip'\u001b[0m\u001b[0;34m)\u001b[0m\u001b[0;34m\u001b[0m\u001b[0;34m\u001b[0m\u001b[0m\n\u001b[0m\u001b[1;32m      2\u001b[0m \u001b[0mzipped_item\u001b[0m\u001b[0;34m.\u001b[0m\u001b[0mextractall\u001b[0m\u001b[0;34m(\u001b[0m\u001b[0mitem_id\u001b[0m\u001b[0;34m)\u001b[0m\u001b[0;34m\u001b[0m\u001b[0;34m\u001b[0m\u001b[0m\n",
            "\u001b[0;32m/usr/lib/python3.6/zipfile.py\u001b[0m in \u001b[0;36m__init__\u001b[0;34m(self, file, mode, compression, allowZip64)\u001b[0m\n\u001b[1;32m   1129\u001b[0m         \u001b[0;32mtry\u001b[0m\u001b[0;34m:\u001b[0m\u001b[0;34m\u001b[0m\u001b[0;34m\u001b[0m\u001b[0m\n\u001b[1;32m   1130\u001b[0m             \u001b[0;32mif\u001b[0m \u001b[0mmode\u001b[0m \u001b[0;34m==\u001b[0m \u001b[0;34m'r'\u001b[0m\u001b[0;34m:\u001b[0m\u001b[0;34m\u001b[0m\u001b[0;34m\u001b[0m\u001b[0m\n\u001b[0;32m-> 1131\u001b[0;31m                 \u001b[0mself\u001b[0m\u001b[0;34m.\u001b[0m\u001b[0m_RealGetContents\u001b[0m\u001b[0;34m(\u001b[0m\u001b[0;34m)\u001b[0m\u001b[0;34m\u001b[0m\u001b[0;34m\u001b[0m\u001b[0m\n\u001b[0m\u001b[1;32m   1132\u001b[0m             \u001b[0;32melif\u001b[0m \u001b[0mmode\u001b[0m \u001b[0;32min\u001b[0m \u001b[0;34m(\u001b[0m\u001b[0;34m'w'\u001b[0m\u001b[0;34m,\u001b[0m \u001b[0;34m'x'\u001b[0m\u001b[0;34m)\u001b[0m\u001b[0;34m:\u001b[0m\u001b[0;34m\u001b[0m\u001b[0;34m\u001b[0m\u001b[0m\n\u001b[1;32m   1133\u001b[0m                 \u001b[0;31m# set the modified flag so central directory gets written\u001b[0m\u001b[0;34m\u001b[0m\u001b[0;34m\u001b[0m\u001b[0;34m\u001b[0m\u001b[0m\n",
            "\u001b[0;32m/usr/lib/python3.6/zipfile.py\u001b[0m in \u001b[0;36m_RealGetContents\u001b[0;34m(self)\u001b[0m\n\u001b[1;32m   1196\u001b[0m             \u001b[0;32mraise\u001b[0m \u001b[0mBadZipFile\u001b[0m\u001b[0;34m(\u001b[0m\u001b[0;34m\"File is not a zip file\"\u001b[0m\u001b[0;34m)\u001b[0m\u001b[0;34m\u001b[0m\u001b[0;34m\u001b[0m\u001b[0m\n\u001b[1;32m   1197\u001b[0m         \u001b[0;32mif\u001b[0m \u001b[0;32mnot\u001b[0m \u001b[0mendrec\u001b[0m\u001b[0;34m:\u001b[0m\u001b[0;34m\u001b[0m\u001b[0;34m\u001b[0m\u001b[0m\n\u001b[0;32m-> 1198\u001b[0;31m             \u001b[0;32mraise\u001b[0m \u001b[0mBadZipFile\u001b[0m\u001b[0;34m(\u001b[0m\u001b[0;34m\"File is not a zip file\"\u001b[0m\u001b[0;34m)\u001b[0m\u001b[0;34m\u001b[0m\u001b[0;34m\u001b[0m\u001b[0m\n\u001b[0m\u001b[1;32m   1199\u001b[0m         \u001b[0;32mif\u001b[0m \u001b[0mself\u001b[0m\u001b[0;34m.\u001b[0m\u001b[0mdebug\u001b[0m \u001b[0;34m>\u001b[0m \u001b[0;36m1\u001b[0m\u001b[0;34m:\u001b[0m\u001b[0;34m\u001b[0m\u001b[0;34m\u001b[0m\u001b[0m\n\u001b[1;32m   1200\u001b[0m             \u001b[0mprint\u001b[0m\u001b[0;34m(\u001b[0m\u001b[0mendrec\u001b[0m\u001b[0;34m)\u001b[0m\u001b[0;34m\u001b[0m\u001b[0;34m\u001b[0m\u001b[0m\n",
            "\u001b[0;31mBadZipFile\u001b[0m: File is not a zip file"
          ]
        }
      ]
    },
    {
      "cell_type": "code",
      "metadata": {
        "id": "LAShJoMywv6v",
        "colab_type": "code",
        "colab": {
          "base_uri": "https://localhost:8080/",
          "height": 34
        },
        "outputId": "40ea46f5-c658-4093-c7fb-2340834314a2"
      },
      "source": [
        "print(os.listdir())"
      ],
      "execution_count": 61,
      "outputs": [
        {
          "output_type": "stream",
          "text": [
            "['.config', '20160707_195147_1057916_RapidEye-1.zip', 'sample_data']\n"
          ],
          "name": "stdout"
        }
      ]
    },
    {
      "cell_type": "code",
      "metadata": {
        "id": "95lkb3HpzfD_",
        "colab_type": "code",
        "colab": {}
      },
      "source": [
        "from google.colab import drive\n",
        "from google.colab import files\n",
        "files.download(\"20160707_195147_1057916_RapidEye-1.zip\")"
      ],
      "execution_count": 0,
      "outputs": []
    }
  ]
}