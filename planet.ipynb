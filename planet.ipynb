{
  "nbformat": 4,
  "nbformat_minor": 0,
  "metadata": {
    "colab": {
      "name": "planet.ipynb",
      "version": "0.3.2",
      "provenance": []
    },
    "kernelspec": {
      "name": "python3",
      "display_name": "Python 3"
    }
  },
  "cells": [
    {
      "cell_type": "code",
      "metadata": {
        "id": "ZFzwb1tZUK5u",
        "colab_type": "code",
        "colab": {}
      },
      "source": [
        "import os\n",
        "import requests\n",
        "from requests.auth import HTTPBasicAuth\n",
        "\n",
        "os.environ['PL_API_KEY'] = 'abc'\n",
        "\n",
        "geo_json_geometry = {\n",
        "  \"type\": \"Polygon\",\n",
        "  \"coordinates\": [\n",
        "    [\n",
        "      [\n",
        "        -122.52227783203125,\n",
        "        40.660847697284815\n",
        "      ],\n",
        "      [\n",
        "        -122.52227783203125,\n",
        "        40.987154933797335\n",
        "      ],\n",
        "      [\n",
        "        -122.01690673828124,\n",
        "        40.987154933797335\n",
        "      ],\n",
        "      [\n",
        "        -122.01690673828124,\n",
        "        40.660847697284815\n",
        "      ],\n",
        "      [\n",
        "        -122.52227783203125,\n",
        "        40.660847697284815\n",
        "      ]\n",
        "    ]\n",
        "  ]\n",
        "}\n",
        "\n",
        "# filter for items the overlap with our chosen geometry\n",
        "geometry_filter = {\n",
        "  \"type\": \"GeometryFilter\",\n",
        "  \"field_name\": \"geometry\",\n",
        "  \"config\": geo_json_geometry\n",
        "}\n",
        "\n",
        "# filter images acquired in a certain date range\n",
        "date_range_filter = {\n",
        "  \"type\": \"DateRangeFilter\",\n",
        "  \"field_name\": \"acquired\",\n",
        "  \"config\": {\n",
        "    \"gte\": \"2016-07-01T00:00:00.000Z\",\n",
        "    \"lte\": \"2016-07-08T00:00:00.000Z\"\n",
        "  }\n",
        "}\n",
        "\n",
        "# filter any images which are more than 50% clouds\n",
        "cloud_cover_filter = {\n",
        "  \"type\": \"RangeFilter\",\n",
        "  \"field_name\": \"cloud_cover\",\n",
        "  \"config\": {\n",
        "    \"lte\": 0.5\n",
        "  }\n",
        "}\n",
        "\n",
        "# create a filter that combines our geo and date filters\n",
        "# could also use an \"OrFilter\"\n",
        "redding_reservoir = {\n",
        "  \"type\": \"AndFilter\",\n",
        "  \"config\": [geometry_filter, date_range_filter, cloud_cover_filter]\n",
        "}"
      ],
      "execution_count": 0,
      "outputs": []
    },
    {
      "cell_type": "code",
      "metadata": {
        "id": "ZdgwJilWWp5t",
        "colab_type": "code",
        "colab": {
          "base_uri": "https://localhost:8080/",
          "height": 34
        },
        "outputId": "a98ddc88-432c-4b6a-8615-f71b69bb1acf"
      },
      "source": [
        "\n",
        "\n",
        "# Stats API request object\n",
        "stats_endpoint_request = {\n",
        "  \"interval\": \"day\",\n",
        "  \"item_types\": [\"REOrthoTile\"],\n",
        "  \"filter\": redding_reservoir\n",
        "}\n",
        "\n",
        "# fire off the POST request\n",
        "result = \\\n",
        "  requests.post(\n",
        "    'https://api.planet.com/data/v1/stats',\n",
        "    auth=HTTPBasicAuth(os.environ['PL_API_KEY'], ''),\n",
        "    json=stats_endpoint_request)\n",
        "\n",
        "print(result.text)"
      ],
      "execution_count": 17,
      "outputs": [
        {
          "output_type": "stream",
          "text": [
            "{\"utc_offset\": \"+0h\", \"interval\": \"day\", \"buckets\": [{\"count\": 6, \"start_time\": \"2016-07-07T00:00:00.000000Z\"}]}\n"
          ],
          "name": "stdout"
        }
      ]
    },
    {
      "cell_type": "code",
      "metadata": {
        "id": "_HCufLZnj7IG",
        "colab_type": "code",
        "colab": {
          "base_uri": "https://localhost:8080/",
          "height": 34
        },
        "outputId": "a8e6ebec-868a-4d5c-d5b4-5e8bb1d0cca5"
      },
      "source": [
        "# Search API request object\n",
        "search_endpoint_request = {\n",
        "  \"item_types\": [\"REOrthoTile\"],\n",
        "  \"filter\": redding_reservoir\n",
        "}\n",
        "\n",
        "result = \\\n",
        "  requests.post(\n",
        "    'https://api.planet.com/data/v1/quick-search',\n",
        "    auth=HTTPBasicAuth(os.environ['PL_API_KEY'], ''),\n",
        "    json=search_endpoint_request)\n",
        "\n",
        "print(result.text)"
      ],
      "execution_count": 19,
      "outputs": [
        {
          "output_type": "stream",
          "text": [
            "{\"message\": \"Please enter your API key, or email and password.\", \"errors\": []}\n"
          ],
          "name": "stdout"
        }
      ]
    },
    {
      "cell_type": "code",
      "metadata": {
        "id": "rvYf8RpsjBul",
        "colab_type": "code",
        "colab": {}
      },
      "source": [
        ""
      ],
      "execution_count": 0,
      "outputs": []
    }
  ]
}